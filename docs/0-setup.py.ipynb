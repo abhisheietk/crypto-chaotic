{
 "metadata": {
  "name": "",
  "signature": "sha256:71760043873cacbb34da6c769484f76f0318c3e6ca6469327a6659363ee8ae2b"
 },
 "nbformat": 3,
 "nbformat_minor": 0,
 "worksheets": [
  {
   "cells": [
    {
     "cell_type": "code",
     "collapsed": false,
     "input": [
      "%%file ../README.txt\n",
      "Readme"
     ],
     "language": "python",
     "metadata": {},
     "outputs": [
      {
       "output_type": "stream",
       "stream": "stdout",
       "text": [
        "Writing ../README.txt\n"
       ]
      }
     ],
     "prompt_number": 14
    },
    {
     "cell_type": "code",
     "collapsed": false,
     "input": [
      "%%file ../PKG-INFO\n",
      "Readme"
     ],
     "language": "python",
     "metadata": {},
     "outputs": [
      {
       "output_type": "stream",
       "stream": "stdout",
       "text": [
        "Writing ../PKG-INFO\n"
       ]
      }
     ],
     "prompt_number": 15
    },
    {
     "cell_type": "code",
     "collapsed": false,
     "input": [
      "%%file ../install.sh\n",
      "cat install.log | xargs rm -rf\n",
      "python setup.py clean\n",
      "rm -rf dist\n",
      "rm -rf build\n",
      "python setup.py sdist\n",
      "python setup.py bdist\n",
      "sudo python setup.py install --record install.log"
     ],
     "language": "python",
     "metadata": {},
     "outputs": [
      {
       "output_type": "stream",
       "stream": "stdout",
       "text": [
        "Overwriting ../install.sh\n"
       ]
      }
     ],
     "prompt_number": 32
    },
    {
     "cell_type": "code",
     "collapsed": false,
     "input": [
      "%%file ../CHANGES.txt\n",
      "v0.1.0, aug-2014 -- Initial release."
     ],
     "language": "python",
     "metadata": {},
     "outputs": [
      {
       "output_type": "stream",
       "stream": "stdout",
       "text": [
        "Overwriting ../CHANGES.txt\n"
       ]
      }
     ],
     "prompt_number": 33
    },
    {
     "cell_type": "code",
     "collapsed": false,
     "input": [
      "%%file ../setup.cfg\n",
      "[build_ext]\n",
      "inplace=1"
     ],
     "language": "python",
     "metadata": {},
     "outputs": [
      {
       "output_type": "stream",
       "stream": "stdout",
       "text": [
        "Overwriting ../setup.cfg\n"
       ]
      }
     ],
     "prompt_number": 56
    },
    {
     "cell_type": "code",
     "collapsed": false,
     "input": [
      "%%file ../MANIFEST.in\n",
      "include *.txt *.in\n",
      "recursive-include docs *.txt *.in *.ipynb\n",
      "recursive-include PyPci *.pyx *.h *.pxd"
     ],
     "language": "python",
     "metadata": {},
     "outputs": [
      {
       "output_type": "stream",
       "stream": "stdout",
       "text": [
        "Overwriting ../MANIFEST.in\n"
       ]
      }
     ],
     "prompt_number": 57
    },
    {
     "cell_type": "code",
     "collapsed": false,
     "input": [
      "%%file ../setup.py\n",
      "#from distutils.core import setup\n",
      "from Cython.Build import cythonize\n",
      "#from distutils.extension import Extension\n",
      "from distutils.core import setup, Extension\n",
      "\n",
      "'''C_module = Extension('crypto-g.libcipher',\n",
      "                     sources = ['crypto-g/cipher.c'],\n",
      "                     libraries=[])'''\n",
      "\n",
      "cython_modules = cythonize([Extension(\"gcipher\", [\"crypto-g1/gcipher.pyx\"],\n",
      "                                      libraries=['cipher'],\n",
      "                                      #include_dirs=[ 'crypto-g' ],\n",
      "                                      #library_dirs=[ 'crypto-g' ],\n",
      "                                      ),\n",
      "        ])\n",
      "\n",
      "#modules = [C_module, cython_modules[0]]\n",
      "modules = [cython_modules[0]]\n",
      "#cython_modules.append(C_module)\n",
      "\n",
      "setup(name='crypto-g1',\n",
      "      version='0.1.0',\n",
      "      author='Abhishek Bajpai',\n",
      "      author_email='abbajpai@barc.gov.in',\n",
      "      packages=['crypto-g1'],\n",
      "      ext_modules = modules,\n",
      "      #ext_modules = cythonize(\"PyPci/*.pyx\"),\n",
      "      scripts=[ ],\n",
      "      url=' ',\n",
      "      license='LICENSE.txt',\n",
      "      description='Useful stuff.',\n",
      "      long_description=open('README.txt').read(),\n",
      "      #install_requires=[    ],\n",
      "      )"
     ],
     "language": "python",
     "metadata": {},
     "outputs": [
      {
       "output_type": "stream",
       "stream": "stdout",
       "text": [
        "Overwriting ../setup.py\n"
       ]
      }
     ],
     "prompt_number": 15
    },
    {
     "cell_type": "code",
     "collapsed": false,
     "input": [
      "%%bash\n",
      "\n",
      "pushd ..\n",
      "python setup.py clean\n",
      "rm -rf dist\n",
      "rm -rf build\n",
      "python setup.py build\n",
      "popd\n"
     ],
     "language": "python",
     "metadata": {},
     "outputs": [
      {
       "output_type": "stream",
       "stream": "stdout",
       "text": [
        "~/devel/crypto-g ~/devel/crypto-g/docs\n",
        "Compiling crypto-g1/gcipher.pyx because it changed.\n",
        "Cythonizing crypto-g1/gcipher.pyx\n",
        "Compiling crypto-g1/gcipher.pyx because it changed.\n",
        "Cythonizing crypto-g1/gcipher.pyx\n",
        "~/devel/crypto-g/docs\n"
       ]
      },
      {
       "output_type": "stream",
       "stream": "stderr",
       "text": [
        "\n",
        "Error compiling Cython file:\n",
        "------------------------------------------------------------\n",
        "...\n",
        "#cimport cipher\n",
        "^\n",
        "------------------------------------------------------------\n",
        "\n",
        "crypto-g1/gcipher.pyx:1:0: 'crypto-g.crypto-g1.gcipher' is not a valid module name\n",
        "Traceback (most recent call last):\n",
        "  File \"setup.py\", line 11, in <module>\n",
        "    libraries=['cipher'],\n",
        "  File \"/usr/lib64/python2.7/site-packages/Cython/Build/Dependencies.py\", line 840, in cythonize\n",
        "    cythonize_one(*args[1:])\n",
        "  File \"/usr/lib64/python2.7/site-packages/Cython/Build/Dependencies.py\", line 959, in cythonize_one\n",
        "    raise CompileError(None, pyx_file)\n",
        "Cython.Compiler.Errors.CompileError: crypto-g1/gcipher.pyx\n",
        "\n",
        "Error compiling Cython file:\n",
        "------------------------------------------------------------\n",
        "...\n",
        "#cimport cipher\n",
        "^\n",
        "------------------------------------------------------------\n",
        "\n",
        "crypto-g1/gcipher.pyx:1:0: 'crypto-g.crypto-g1.gcipher' is not a valid module name\n",
        "Traceback (most recent call last):\n",
        "  File \"setup.py\", line 11, in <module>\n",
        "    libraries=['cipher'],\n",
        "  File \"/usr/lib64/python2.7/site-packages/Cython/Build/Dependencies.py\", line 840, in cythonize\n",
        "    cythonize_one(*args[1:])\n",
        "  File \"/usr/lib64/python2.7/site-packages/Cython/Build/Dependencies.py\", line 959, in cythonize_one\n",
        "    raise CompileError(None, pyx_file)\n",
        "Cython.Compiler.Errors.CompileError: crypto-g1/gcipher.pyx\n"
       ]
      }
     ],
     "prompt_number": 16
    },
    {
     "cell_type": "code",
     "collapsed": false,
     "input": [],
     "language": "python",
     "metadata": {},
     "outputs": [],
     "prompt_number": 10
    },
    {
     "cell_type": "code",
     "collapsed": false,
     "input": [],
     "language": "python",
     "metadata": {},
     "outputs": [],
     "prompt_number": 73
    },
    {
     "cell_type": "code",
     "collapsed": false,
     "input": [],
     "language": "python",
     "metadata": {},
     "outputs": []
    }
   ],
   "metadata": {}
  }
 ]
}