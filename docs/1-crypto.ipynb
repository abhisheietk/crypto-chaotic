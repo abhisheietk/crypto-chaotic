{
 "metadata": {
  "name": "",
  "signature": "sha256:aa99f8e89dcd6a05bedbbede48af94152a3af0fdcdc5b966b47db1fcfb167033"
 },
 "nbformat": 3,
 "nbformat_minor": 0,
 "worksheets": [
  {
   "cells": [
    {
     "cell_type": "code",
     "collapsed": false,
     "input": [
      "!mkdir -p ../crypto-g1"
     ],
     "language": "python",
     "metadata": {},
     "outputs": [],
     "prompt_number": 153
    },
    {
     "cell_type": "code",
     "collapsed": false,
     "input": [
      "%%file ../crypto-g1/__init__.py\n",
      " "
     ],
     "language": "python",
     "metadata": {},
     "outputs": [
      {
       "output_type": "stream",
       "stream": "stdout",
       "text": [
        "Writing ../crypto-g1/__init__.py\n"
       ]
      }
     ],
     "prompt_number": 154
    },
    {
     "cell_type": "code",
     "collapsed": false,
     "input": [
      "%%file ../crypto-g1/cipher.c\n",
      "#include \"cipher.h\"\n",
      "int cipher_encrypt(state *Text, key_state *Key) {\n",
      "\tint i;\n",
      "\tfor (i=0; i< 4; i++)\n",
      "\t{\n",
      "\t\tText->data[i] = Text->data[i] ^ Key->key[i];\n",
      "\t}\n",
      "    return 0;\n",
      "}\n",
      "\n",
      "int cipher_decrypt(state *Text, key_state *Key) {\n",
      "\tint i;\n",
      "\tfor (i=0; i< 4; i++)\n",
      "\t{\n",
      "\t\tText->data[i] = Text->data[i] ^ Key->key[i];\n",
      "\t} \n",
      "    return 0;\n",
      "}/**/"
     ],
     "language": "python",
     "metadata": {},
     "outputs": [
      {
       "output_type": "stream",
       "stream": "stdout",
       "text": [
        "Writing ../crypto-g/cipher.c\n"
       ]
      }
     ],
     "prompt_number": 144
    },
    {
     "cell_type": "code",
     "collapsed": false,
     "input": [
      "%%file ../crypto-g1/cipher.h\n",
      "typedef struct\n",
      "{\n",
      "\tunsigned long data[4];\n",
      "}state;\n",
      "\n",
      "typedef struct\n",
      "{\n",
      "\tunsigned long key[4];\n",
      "}key_state;\n",
      "\n",
      "extern int cipher_encrypt(state *Text, key_state *Key);\n",
      "extern int cipher_decrypt(state *Text, key_state *Key);"
     ],
     "language": "python",
     "metadata": {},
     "outputs": [
      {
       "output_type": "stream",
       "stream": "stdout",
       "text": [
        "Writing ../crypto-g1/cipher.h\n"
       ]
      }
     ],
     "prompt_number": 155
    },
    {
     "cell_type": "code",
     "collapsed": false,
     "input": [
      "%%file ../crypto-g1/cipher.pxd\n",
      "cdef extern from \"cipher.h\":\n",
      "    struct state:\n",
      "        pass\n",
      "    struct key_state:\n",
      "        pass\n",
      "    void cipher_encrypt(state *Text, key_state *Key)\n",
      "    void cipher_decrypt(state *Text, key_state *Key)"
     ],
     "language": "python",
     "metadata": {},
     "outputs": [
      {
       "output_type": "stream",
       "stream": "stdout",
       "text": [
        "Writing ../crypto-g1/cipher.pxd\n"
       ]
      }
     ],
     "prompt_number": 156
    },
    {
     "cell_type": "code",
     "collapsed": false,
     "input": [
      "%%file ../crypto-g1/gcipher.pyx\n",
      "#cimport cipher\n",
      "from libc.stdlib cimport malloc, free\n",
      "from cython.view cimport array as cvarray\n",
      "import numpy as np\n",
      "cimport numpy as np\n",
      "import cython\n",
      "'''\n",
      "cdef class Cipher:    \n",
      "    def __cinit__(self):\n",
      "        pass\n",
      "    \n",
      "    @cython.boundscheck(False)\n",
      "    @cython.wraparound(False)\n",
      "    def setkey(self, np.ndarray[dtype=unsigned long, mode=\"c\"] buff not None):\n",
      "        cdef key_state Key\n",
      "        Key.key[0] =  buff[0]\n",
      "        Key.key[1] =  buff[1]\n",
      "        Key.key[2] =  buff[2]\n",
      "        Key.key[3] =  buff[3]\n",
      "        self.key = Key        \n",
      "        return 0\n",
      "    \n",
      "    @cython.boundscheck(False)\n",
      "    @cython.wraparound(False)\n",
      "    def encrypt(self, np.ndarray[dtype=unsigned long, mode=\"c\"] buff not None):        \n",
      "        cdef state State\n",
      "        cdef key_state Key        \n",
      "        Key =  self.key\n",
      "        State.data[0] =  buff[0]\n",
      "        State.data[1] =  buff[1]\n",
      "        State.data[2] =  buff[2]\n",
      "        State.data[3] =  buff[3]\n",
      "        cipher.cipher_encrypt(&State, &Key)\n",
      "        return buff\n",
      "    '''\n",
      "    '''@cython.boundscheck(False)\n",
      "    @cython.wraparound(False)\n",
      "    def decrypt(self, np.ndarray[dtype=unsigned long, mode=\"c\"] buff not None):\n",
      "        cdef state self.State\n",
      "        self.State =  buff[0]\n",
      "        self.State =  buff[1]\n",
      "        self.State =  buff[2]\n",
      "        self.State =  buff[3]\n",
      "        cipher.cipher_decrypt(&self.State, &self.key)\n",
      "        return buff\n",
      "    '''"
     ],
     "language": "python",
     "metadata": {},
     "outputs": [
      {
       "output_type": "stream",
       "stream": "stdout",
       "text": [
        "Writing ../crypto-g1/gcipher.pyx\n"
       ]
      }
     ],
     "prompt_number": 157
    },
    {
     "cell_type": "code",
     "collapsed": false,
     "input": [
      "%%bash\n",
      "pushd ../\n",
      "python setup.py clean\n",
      "python setup.py build\n",
      "popd"
     ],
     "language": "python",
     "metadata": {},
     "outputs": [
      {
       "output_type": "stream",
       "stream": "stdout",
       "text": [
        "~/devel/crypto-g ~/devel/crypto-g/docs\n",
        "Compiling crypto-g1/gcipher.pyx because it changed.\n",
        "Cythonizing crypto-g1/gcipher.pyx\n",
        "Compiling crypto-g1/gcipher.pyx because it changed.\n",
        "Cythonizing crypto-g1/gcipher.pyx\n",
        "~/devel/crypto-g/docs\n"
       ]
      },
      {
       "output_type": "stream",
       "stream": "stderr",
       "text": [
        "\n",
        "Error compiling Cython file:\n",
        "------------------------------------------------------------\n",
        "...\n",
        "#cimport cipher\n",
        "^\n",
        "------------------------------------------------------------\n",
        "\n",
        "crypto-g1/gcipher.pyx:1:0: 'crypto-g.crypto-g1.gcipher' is not a valid module name\n",
        "Traceback (most recent call last):\n",
        "  File \"setup.py\", line 11, in <module>\n",
        "    libraries=['cipher'],\n",
        "  File \"/usr/lib64/python2.7/site-packages/Cython/Build/Dependencies.py\", line 840, in cythonize\n",
        "    cythonize_one(*args[1:])\n",
        "  File \"/usr/lib64/python2.7/site-packages/Cython/Build/Dependencies.py\", line 959, in cythonize_one\n",
        "    raise CompileError(None, pyx_file)\n",
        "Cython.Compiler.Errors.CompileError: crypto-g1/gcipher.pyx\n",
        "\n",
        "Error compiling Cython file:\n",
        "------------------------------------------------------------\n",
        "...\n",
        "#cimport cipher\n",
        "^\n",
        "------------------------------------------------------------\n",
        "\n",
        "crypto-g1/gcipher.pyx:1:0: 'crypto-g.crypto-g1.gcipher' is not a valid module name\n",
        "Traceback (most recent call last):\n",
        "  File \"setup.py\", line 11, in <module>\n",
        "    libraries=['cipher'],\n",
        "  File \"/usr/lib64/python2.7/site-packages/Cython/Build/Dependencies.py\", line 840, in cythonize\n",
        "    cythonize_one(*args[1:])\n",
        "  File \"/usr/lib64/python2.7/site-packages/Cython/Build/Dependencies.py\", line 959, in cythonize_one\n",
        "    raise CompileError(None, pyx_file)\n",
        "Cython.Compiler.Errors.CompileError: crypto-g1/gcipher.pyx\n"
       ]
      }
     ],
     "prompt_number": 159
    },
    {
     "cell_type": "code",
     "collapsed": false,
     "input": [],
     "language": "python",
     "metadata": {},
     "outputs": [],
     "prompt_number": 87
    },
    {
     "cell_type": "code",
     "collapsed": false,
     "input": [],
     "language": "python",
     "metadata": {},
     "outputs": [],
     "prompt_number": 82
    },
    {
     "cell_type": "code",
     "collapsed": false,
     "input": [],
     "language": "python",
     "metadata": {},
     "outputs": []
    }
   ],
   "metadata": {}
  }
 ]
}