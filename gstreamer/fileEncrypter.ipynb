{
 "cells": [
  {
   "cell_type": "code",
   "execution_count": 2,
   "metadata": {
    "collapsed": true
   },
   "outputs": [],
   "source": [
    "import numpy as np\n",
    "from crypto import crypto, drawfft, plotamp\n",
    "\n",
    "np.set_printoptions(formatter={'int':hex})\n",
    "#%pylab inline\n",
    "data = np.fromfile('data.txt', dtype=np.uint64)\n",
    "framesize = 16\n",
    "padsize = 16 - len(data)%framesize\n",
    "pad = np.array([padsize] + [0 for i in range((padsize) -1)], dtype=np.uint64)\n",
    "data = np.append(data, pad)\n",
    "Crypto = crypto()\n",
    "encrypted = Crypto.encrypt(data)\n",
    "encrypted.tofile('encrypted.dat')\n",
    "#plotamp([data])\n",
    "#plotamp([encrypted], xmin = 0, xmax = 10000)"
   ]
  },
  {
   "cell_type": "code",
   "execution_count": 3,
   "metadata": {
    "collapsed": false
   },
   "outputs": [
    {
     "name": "stdout",
     "output_type": "stream",
     "text": [
      "chaos offline syncronisation\n"
     ]
    }
   ],
   "source": [
    "encrypted = np.fromfile('encrypted.dat', dtype=np.float)\n",
    "Crypto = crypto()\n",
    "decrypted = Crypto.decrypt(encrypted)\n",
    "#plotamp([encrypted], xmin = 0, xmax = 10000)\n",
    "#print len(decrypted)\n",
    "#print decrypted\n",
    "for idx, val in enumerate(reversed(decrypted)):\n",
    "    if not val == 0:\n",
    "        if val == idx+1:\n",
    "            data = decrypted[:-idx-1]\n",
    "        break\n",
    "#print data\n",
    "data.tofile('decrypted.mp3')"
   ]
  },
  {
   "cell_type": "code",
   "execution_count": null,
   "metadata": {
    "collapsed": true
   },
   "outputs": [],
   "source": []
  },
  {
   "cell_type": "code",
   "execution_count": null,
   "metadata": {
    "collapsed": true
   },
   "outputs": [],
   "source": []
  },
  {
   "cell_type": "code",
   "execution_count": null,
   "metadata": {
    "collapsed": true
   },
   "outputs": [],
   "source": []
  }
 ],
 "metadata": {
  "kernelspec": {
   "display_name": "Python 2",
   "language": "python",
   "name": "python2"
  },
  "language_info": {
   "codemirror_mode": {
    "name": "ipython",
    "version": 2
   },
   "file_extension": ".py",
   "mimetype": "text/x-python",
   "name": "python",
   "nbconvert_exporter": "python",
   "pygments_lexer": "ipython2",
   "version": "2.7.10"
  }
 },
 "nbformat": 4,
 "nbformat_minor": 0
}
