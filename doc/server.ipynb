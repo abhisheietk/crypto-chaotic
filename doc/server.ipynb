{
 "cells": [
  {
   "cell_type": "code",
   "execution_count": 1,
   "metadata": {
    "collapsed": false
   },
   "outputs": [
    {
     "name": "stdout",
     "output_type": "stream",
     "text": [
      "Overwriting ../crypto_chaotic/audioServer.py\n"
     ]
    }
   ],
   "source": [
    "%%writefile ../crypto_chaotic/audioServer.py\n",
    "#!/usr/bin/env python\n",
    "\n",
    "# Copyright (c) Twisted Matrix Laboratories.\n",
    "# See LICENSE for details.\n",
    "\n",
    "from twisted.internet.protocol import DatagramProtocol\n",
    "from twisted.internet import reactor\n",
    "\n",
    "# Here's a UDP version of the simplest possible protocol\n",
    "class EchoUDP(DatagramProtocol):\n",
    "    def datagramReceived(self, datagram, address):\n",
    "        #print datagram\n",
    "        self.transport.write(datagram, address)\n",
    "\n",
    "def main():\n",
    "    reactor.listenUDP(8000, EchoUDP())\n",
    "    reactor.run()\n",
    "\n",
    "if __name__ == '__main__':\n",
    "    main()"
   ]
  },
  {
   "cell_type": "code",
   "execution_count": 1,
   "metadata": {
    "collapsed": false
   },
   "outputs": [
    {
     "name": "stdout",
     "output_type": "stream",
     "text": [
      "/run/media/abhishek/bf2b188b-08b7-4520-8562-2d8b267dc5ce/2016/crypto-chaotic/crypto_chaotic /run/media/abhishek/bf2b188b-08b7-4520-8562-2d8b267dc5ce/2016/crypto-chaotic/doc\n"
     ]
    },
    {
     "name": "stderr",
     "output_type": "stream",
     "text": [
      "Traceback (most recent call last):\n",
      "  File \"/usr/lib64/python2.7/runpy.py\", line 162, in _run_module_as_main\n",
      "    \"__main__\", fname, loader, pkg_name)\n",
      "  File \"/usr/lib64/python2.7/runpy.py\", line 72, in _run_code\n",
      "    exec code in run_globals\n",
      "  File \"/run/media/abhishek/bf2b188b-08b7-4520-8562-2d8b267dc5ce/2016/crypto-chaotic/crypto_chaotic/audioServer.py\", line 20, in <module>\n",
      "    main()\n",
      "  File \"/run/media/abhishek/bf2b188b-08b7-4520-8562-2d8b267dc5ce/2016/crypto-chaotic/crypto_chaotic/audioServer.py\", line 16, in main\n",
      "    reactor.listenUDP(8000, EchoUDP())\n",
      "  File \"/usr/lib64/python2.7/site-packages/twisted/internet/posixbase.py\", line 373, in listenUDP\n",
      "    p.startListening()\n",
      "  File \"/usr/lib64/python2.7/site-packages/twisted/internet/udp.py\", line 101, in startListening\n",
      "    self._bindSocket()\n",
      "  File \"/usr/lib64/python2.7/site-packages/twisted/internet/udp.py\", line 109, in _bindSocket\n",
      "    raise error.CannotListenError, (self.interface, self.port, le)\n",
      "twisted.internet.error.CannotListenError: Couldn't listen on any:8000: [Errno 98] Address already in use.\n"
     ]
    }
   ],
   "source": [
    "%%bash\n",
    "pushd ../crypto_chaotic\n",
    "python2 -m audioServer"
   ]
  },
  {
   "cell_type": "code",
   "execution_count": null,
   "metadata": {
    "collapsed": true
   },
   "outputs": [],
   "source": []
  }
 ],
 "metadata": {
  "hide_input": true,
  "kernelspec": {
   "display_name": "Python 2",
   "language": "python",
   "name": "python2"
  },
  "language_info": {
   "codemirror_mode": {
    "name": "ipython",
    "version": 2
   },
   "file_extension": ".py",
   "mimetype": "text/x-python",
   "name": "python",
   "nbconvert_exporter": "python",
   "pygments_lexer": "ipython2",
   "version": "2.7.10"
  },
  "latex_envs": {
   "bibliofile": "biblio.bib",
   "cite_by": "apalike",
   "current_citInitial": 1,
   "eqLabelWithNumbers": true,
   "eqNumInitial": 0
  }
 },
 "nbformat": 4,
 "nbformat_minor": 0
}
