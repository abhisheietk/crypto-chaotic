{
 "cells": [
  {
   "cell_type": "code",
   "execution_count": 7,
   "metadata": {
    "collapsed": false
   },
   "outputs": [
    {
     "name": "stdout",
     "output_type": "stream",
     "text": [
      "Populating the interactive namespace from numpy and matplotlib\n",
      "Using matplotlib backend: Qt5Agg\n"
     ]
    },
    {
     "ename": "TypeError",
     "evalue": "must be encoded string without NULL bytes, not str",
     "output_type": "error",
     "traceback": [
      "\u001b[1;31m---------------------------------------------------------------------------\u001b[0m",
      "\u001b[1;31mTypeError\u001b[0m                                 Traceback (most recent call last)",
      "\u001b[1;32m<ipython-input-7-40b1ace73a90>\u001b[0m in \u001b[0;36m<module>\u001b[1;34m()\u001b[0m\n\u001b[0;32m     40\u001b[0m \u001b[0mvoicestream\u001b[0m \u001b[1;33m=\u001b[0m \u001b[0minputStream\u001b[0m\u001b[1;33m.\u001b[0m\u001b[0mread\u001b[0m\u001b[1;33m(\u001b[0m\u001b[0mCHUNK\u001b[0m\u001b[1;33m)\u001b[0m\u001b[1;33m\u001b[0m\u001b[0m\n\u001b[0;32m     41\u001b[0m \u001b[0mencodedstream\u001b[0m \u001b[1;33m=\u001b[0m \u001b[1;33m[\u001b[0m\u001b[1;33m]\u001b[0m\u001b[1;33m\u001b[0m\u001b[0m\n\u001b[1;32m---> 42\u001b[1;33m \u001b[1;32mfor\u001b[0m \u001b[0mdata\u001b[0m \u001b[1;32min\u001b[0m \u001b[0mat\u001b[0m\u001b[1;33m.\u001b[0m\u001b[0mtranscode_stream\u001b[0m\u001b[1;33m(\u001b[0m\u001b[0mvoicestream\u001b[0m\u001b[1;33m,\u001b[0m\u001b[1;34m'mp3'\u001b[0m\u001b[1;33m)\u001b[0m\u001b[1;33m:\u001b[0m\u001b[1;33m\u001b[0m\u001b[0m\n\u001b[0m\u001b[0;32m     43\u001b[0m     \u001b[0mencodedstream\u001b[0m\u001b[1;33m.\u001b[0m\u001b[0mappend\u001b[0m\u001b[1;33m(\u001b[0m\u001b[0mdata\u001b[0m\u001b[1;33m)\u001b[0m\u001b[1;33m\u001b[0m\u001b[0m\n\u001b[0;32m     44\u001b[0m \u001b[1;32mprint\u001b[0m \u001b[0mlen\u001b[0m\u001b[1;33m(\u001b[0m\u001b[0mvoicestream\u001b[0m\u001b[1;33m)\u001b[0m\u001b[1;33m,\u001b[0m \u001b[0mtype\u001b[0m\u001b[1;33m(\u001b[0m\u001b[0mvoicestream\u001b[0m\u001b[1;33m)\u001b[0m\u001b[1;33m\u001b[0m\u001b[0m\n",
      "\u001b[1;32m/home/gayatri/2016/crypto-chaotic/doc/audiotranscode/__init__.py\u001b[0m in \u001b[0;36mtranscode_stream\u001b[1;34m(self, filepath, newformat, bitrate, encoder, decoder, raw)\u001b[0m\n\u001b[0;32m    272\u001b[0m             \u001b[1;31m#pass on exception, but clean up\u001b[0m\u001b[1;33m\u001b[0m\u001b[1;33m\u001b[0m\u001b[0m\n\u001b[0;32m    273\u001b[0m             \u001b[1;32mraise\u001b[0m \u001b[0mexc\u001b[0m\u001b[1;33m\u001b[0m\u001b[0m\n\u001b[1;32m--> 274\u001b[1;33m         \u001b[1;32mfinally\u001b[0m\u001b[1;33m:\u001b[0m\u001b[1;33m\u001b[0m\u001b[0m\n\u001b[0m\u001b[0;32m    275\u001b[0m             \u001b[1;32mif\u001b[0m \u001b[0mdecoder_process\u001b[0m \u001b[1;32mand\u001b[0m \u001b[0mdecoder_process\u001b[0m\u001b[1;33m.\u001b[0m\u001b[0mpoll\u001b[0m\u001b[1;33m(\u001b[0m\u001b[1;33m)\u001b[0m \u001b[1;32mis\u001b[0m \u001b[0mNone\u001b[0m\u001b[1;33m:\u001b[0m\u001b[1;33m\u001b[0m\u001b[0m\n\u001b[0;32m    276\u001b[0m                 \u001b[1;32mif\u001b[0m \u001b[0mdecoder_process\u001b[0m\u001b[1;33m.\u001b[0m\u001b[0mstderr\u001b[0m\u001b[1;33m:\u001b[0m\u001b[1;33m\u001b[0m\u001b[0m\n",
      "\u001b[1;31mTypeError\u001b[0m: must be encoded string without NULL bytes, not str"
     ]
    }
   ],
   "source": [
    "%pylab inline\n",
    "%matplotlib\n",
    "#%%writefile ../crypto_chaotic/audioClient.py\n",
    "#!/usr/bin/env python\n",
    "\n",
    "import pyaudio\n",
    "import wave\n",
    "from twisted.internet.protocol import DatagramProtocol\n",
    "from twisted.internet import reactor\n",
    "import numpy as np\n",
    "from crypto_chaotic.modulation import drawfft\n",
    "from matplotlib import rcParams\n",
    "import matplotlib.pyplot as plt\n",
    "from random import randrange\n",
    "from crypto_chaotic import lorenz_attractor, modulation\n",
    "import audiotranscode\n",
    "#from scipy.fftpack import rfft, irfft, fftfreq\n",
    "\n",
    "CHUNK = 44100\n",
    "FORMAT = pyaudio.paInt16\n",
    "CHANNELS = 1\n",
    "RATE = 44100\n",
    "#RECORD_SECONDS = 60*60\n",
    "\n",
    "tstep = 0.001 #0.0001\n",
    "ndrop = 1500 #15000\n",
    "N = 4\n",
    "\n",
    "Amplification = 100000 #500000\n",
    "\n",
    "p = pyaudio.PyAudio()\n",
    "at = audiotranscode.AudioTranscode()\n",
    "\n",
    "inputStream = p.open(format=FORMAT,\n",
    "                     channels=CHANNELS,\n",
    "                     rate=RATE,\n",
    "                     input=True,\n",
    "                     frames_per_buffer=CHUNK)\n",
    "\n",
    "voicestream = inputStream.read(CHUNK)\n",
    "encodedstream = []\n",
    "for data in at.transcode_stream(voicestream,'mp3'):\n",
    "    encodedstream.append(data)\n",
    "print len(voicestream), type(voicestream)\n",
    "print len(encodedstream), type(encodedstream)\n",
    "\n",
    "inputStream.close()"
   ]
  },
  {
   "cell_type": "code",
   "execution_count": null,
   "metadata": {
    "collapsed": true
   },
   "outputs": [],
   "source": [
    "outputStream = p.open(format=FORMAT,\n",
    "                      channels=CHANNELS,\n",
    "                      rate=RATE,\n",
    "                      output=True)\n",
    "\n",
    "outputStream.write(voicestream)\n",
    "outputStream.close()"
   ]
  },
  {
   "cell_type": "code",
   "execution_count": null,
   "metadata": {
    "collapsed": true
   },
   "outputs": [],
   "source": []
  }
 ],
 "metadata": {
  "hide_input": true,
  "kernelspec": {
   "display_name": "Python 2",
   "language": "python2",
   "name": "python2"
  },
  "language_info": {
   "codemirror_mode": {
    "name": "ipython",
    "version": 2
   },
   "file_extension": ".py",
   "mimetype": "text/x-python",
   "name": "python",
   "nbconvert_exporter": "python",
   "pygments_lexer": "ipython2",
   "version": "2.7.11"
  },
  "latex_envs": {
   "bibliofile": "biblio.bib",
   "cite_by": "apalike",
   "current_citInitial": 1,
   "eqLabelWithNumbers": true,
   "eqNumInitial": 0
  }
 },
 "nbformat": 4,
 "nbformat_minor": 0
}
