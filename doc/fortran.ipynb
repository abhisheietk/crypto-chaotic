{
 "cells": [
  {
   "cell_type": "code",
   "execution_count": 3,
   "metadata": {
    "collapsed": true
   },
   "outputs": [],
   "source": [
    "mkdir -p ../src"
   ]
  },
  {
   "cell_type": "code",
   "execution_count": 4,
   "metadata": {
    "collapsed": false
   },
   "outputs": [
    {
     "name": "stdout",
     "output_type": "stream",
     "text": [
      "Overwriting ../src/chaos.f90\n"
     ]
    }
   ],
   "source": [
    "%%writefile ../src/chaos.f90\n",
    "\n",
    "subroutine rkm_receive(h,x,xp,N)\n",
    "implicit double precision (a-h,o-z)\n",
    "double precision, dimension (N) :: x,xdot1, xdot2, xdot3, xdot4, g\n",
    "hh=h*0.5;\n",
    "call deriv_receive(xdot1,x,xp,N)\n",
    "do i=1,N\n",
    "    g(i)=x(i)+hh*xdot1(i);\n",
    "enddo\n",
    "call deriv_receive(xdot2,g,xp,N);\n",
    "do i=1,N\n",
    "    g(i)=x(i)+hh*xdot2(i);\n",
    "enddo\n",
    "call deriv_receive(xdot3,g,xp,N);\n",
    "do i=1,N\n",
    "    g(i)=x(i)+h*xdot3(i);\n",
    "enddo\n",
    "call deriv_receive(xdot4,g,xp,N);\n",
    "do i=1,N\n",
    "    x(i)=x(i)+h*(xdot1(i)+2.0*(xdot2(i)+xdot3(i))+xdot4(i))/6.0;\n",
    "enddo\n",
    "return\n",
    "end\n",
    "!*******************************************************************\n",
    "subroutine rkm_send(h,x,N)\n",
    "implicit double precision (a-h,o-z)\n",
    "double precision, dimension (N) :: x,xdot1, xdot2, xdot3, xdot4, g\n",
    "hh=h*0.5;\n",
    "call deriv_send(xdot1,x,N);\n",
    "do i=1,N\n",
    "    g(i)=x(i)+hh*xdot1(i);\n",
    "enddo\n",
    "call deriv_send(xdot2,g,N);\n",
    "do i=1,3\n",
    "    g(i)=x(i)+hh*xdot2(i);\n",
    "enddo\n",
    "call deriv_send(xdot3,g,N);\n",
    "do i=1,N\n",
    "    g(i)=x(i)+h*xdot3(i);\n",
    "enddo\n",
    "call deriv_send(xdot4,g,N);\n",
    "do i=1,N\n",
    "    x(i)=x(i)+h*(xdot1(i)+2.0*(xdot2(i)+xdot3(i))+xdot4(i))/6.0;\n",
    "enddo\n",
    "return\n",
    "end\n",
    "!******************************************************************\n",
    "subroutine deriv_receive(xdot,x,xp,N)\n",
    "implicit double precision (a-h,o-z)\n",
    "double precision, dimension (N) :: x,xdot\n",
    "rho=25;\n",
    "sigma=10;\n",
    "beta=1.5;\n",
    "xdot(1)=sigma*(x(2)-x(1));\n",
    "xdot(2)=xp*rho-x(2)-xp*x(3);\n",
    "xdot(3)=xp*x(2)-beta*x(3);\n",
    "return\n",
    "end\n",
    "!*********************************************************************\n",
    "subroutine deriv_send(xdot,x,N)\n",
    "implicit double precision (a-h,o-z)\n",
    "double precision, dimension (N) :: x,xdot \n",
    "rho=25;\n",
    "sigma=10;\n",
    "beta=1.5;\n",
    "xdot(1)=sigma*(x(2)-x(1));\n",
    "xdot(2)=x(1)*rho-x(2)-x(1)*x(3);\n",
    "xdot(3)=x(1)*x(2)-beta*x(3);\n",
    "return\n",
    "end\n",
    "!***********************************************************************"
   ]
  },
  {
   "cell_type": "code",
   "execution_count": 5,
   "metadata": {
    "collapsed": false
   },
   "outputs": [
    {
     "name": "stdout",
     "output_type": "stream",
     "text": [
      "Writing ../src/main.f90\n"
     ]
    }
   ],
   "source": [
    "%%writefile ../src/main.f90\n",
    "program chaos_commn\n",
    "parameter (N=3,nosdata=40000)\n",
    "implicit double precision (a-h,o-z)\n",
    "double precision, dimension(nosdata) :: xt,xr,signal,recovered,encryptedx\n",
    "double precision, dimension (N):: xold\n",
    "tstep=0.0001;\n",
    "ndrop=15000;\n",
    "xold(1)=rand();\n",
    "xold(2)=rand();\n",
    "xold(3)=rand();\n",
    "do i=1,ndrop\n",
    "   call rkm_send(tstep,xold,N)\n",
    "enddo\n",
    "do i=1,nosdata\n",
    "    call rkm_send(tstep,xold,N)\n",
    "    xt(i)=xold(1);\n",
    "enddo\n",
    "do i=1,nosdata\n",
    "   !signal(i)=rand()\n",
    "   signal(i)=1.5*sin(0.01*float(i)) +1.0*sin(0.01*sqrt(2.0)*float(i))\n",
    "enddo\n",
    "do i=1,nosdata\n",
    "   encryptedx(i)=signal(i)+xt(i);\n",
    "enddo \n",
    "!renormscale(1)=minval(encryptedx,nosdata);\n",
    "!renormscale(2)=maxval(encryptedx,nosdata);\n",
    "!encryptedx=mynorm(encryptedx_pratik_speaker,normscale,numsample)';\n",
    "!for i=1:numsample\n",
    "!    encryptedx(i)=normscale(1)+(encryptedx_pratik_speaker(i)-renormscale(1))*(normscale(2)-normscale(1))/(renormscale(2)-renormscale(1));\n",
    "!end    \n",
    "!%%%%%%%%%%%%%%%%%%%%%%%%%%%%%%%%%%%%%%%%%%%%%%%%%%%%%%%%%%%%%%%%%%%%%%%%%%%%%%%%%%%%%%%%%%%%%%%%%%%%%%\n",
    "xold(1)=rand();\n",
    "xold(2)=rand();\n",
    "xold(3)=rand();\n",
    "do i=1,ndrop\n",
    "   call rkm_send(tstep,xold,N);\n",
    "enddo \n",
    "do  i=1, nosdata\n",
    "    call rkm_receive(tstep,xold,encryptedx(i),N);\n",
    "    xr(i)=xold(1);\n",
    "enddo\n",
    "do i=1,nosdata\n",
    "   recovered(i)=(encryptedx(i)-xr(i));\n",
    "enddo\n",
    "open (3,file=\"signal_recovered.dat\")\n",
    "do i=1,nosdata\n",
    "   write(3,*)signal(i), recovered(i)\n",
    "enddo\n",
    "close(3)\n",
    "end"
   ]
  },
  {
   "cell_type": "code",
   "execution_count": 11,
   "metadata": {
    "collapsed": false
   },
   "outputs": [
    {
     "name": "stdout",
     "output_type": "stream",
     "text": [
      "~/devel/2015/crypto-chaotic/src ~/devel/2015/crypto-chaotic/doc\n",
      "~/devel/2015/crypto-chaotic/doc\n"
     ]
    }
   ],
   "source": [
    "%%bash\n",
    "pushd ../src\n",
    "gfortran -o chaos chaos.f90 main.f90\n",
    "./chaos\n",
    "popd\n"
   ]
  },
  {
   "cell_type": "code",
   "execution_count": null,
   "metadata": {
    "collapsed": true
   },
   "outputs": [],
   "source": []
  }
 ],
 "metadata": {
  "kernelspec": {
   "display_name": "Python 2",
   "language": "python",
   "name": "python2"
  },
  "language_info": {
   "codemirror_mode": {
    "name": "ipython",
    "version": 2
   },
   "file_extension": ".py",
   "mimetype": "text/x-python",
   "name": "python",
   "nbconvert_exporter": "python",
   "pygments_lexer": "ipython2",
   "version": "2.7.10"
  }
 },
 "nbformat": 4,
 "nbformat_minor": 0
}
