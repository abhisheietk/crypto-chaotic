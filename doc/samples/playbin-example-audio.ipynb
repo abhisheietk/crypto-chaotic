{
 "cells": [
  {
   "cell_type": "code",
   "execution_count": 11,
   "metadata": {
    "collapsed": false
   },
   "outputs": [
    {
     "name": "stdout",
     "output_type": "stream",
     "text": [
      "Overwriting playbin-example-audio.py\n"
     ]
    }
   ],
   "source": [
    "%%writefile playbin-example-audio.py\n",
    "#!/usr/bin/env python\n",
    "\n",
    "\n",
    "import os\n",
    "import gi\n",
    "gi.require_version('Gst', '1.0')\n",
    "gi.require_version('Gtk', '3.0')\n",
    "from gi.repository import Gst, GObject, Gtk, GstBase\n",
    "\n",
    "class GTK_Main(object):\n",
    "    def __init__(self):\n",
    "        window = Gtk.Window(Gtk.WindowType.TOPLEVEL)\n",
    "        window.set_title(\"Audio-Player\")\n",
    "        window.set_default_size(300, -1)\n",
    "        window.connect(\"destroy\", Gtk.main_quit, \"WM destroy\")\n",
    "        vbox = Gtk.VBox()\n",
    "        window.add(vbox)\n",
    "        self.entry = Gtk.Entry()\n",
    "        vbox.pack_start(self.entry, False, True, 0)\n",
    "        self.button = Gtk.Button(\"Start\")\n",
    "        self.button.connect(\"clicked\", self.start_stop)\n",
    "        vbox.add(self.button)\n",
    "        window.show_all()\n",
    "        self.player = Gst.ElementFactory.make(\"playbin\", \"player\")\n",
    "        fakesink = Gst.ElementFactory.make(\"fakesink\", \"fakesink\")\n",
    "        self.player.set_property(\"video-sink\", fakesink)\n",
    "        bus = self.player.get_bus()\n",
    "        bus.add_signal_watch()\n",
    "        bus.connect(\"message\", self.on_message)\n",
    "\n",
    "\n",
    "    def start_stop(self, w):\n",
    "        if self.button.get_label() == \"Start\":\n",
    "            filepath = self.entry.get_text().strip()\n",
    "            if os.path.isfile(filepath):\n",
    "                filepath = os.path.realpath(filepath)\n",
    "                self.button.set_label(\"Stop\")\n",
    "                self.player.set_property(\"uri\", \"file://\" + filepath)\n",
    "                self.player.set_state(Gst.State.PLAYING)\n",
    "            else:\n",
    "                self.player.set_state(Gst.State.NULL)\n",
    "                self.button.set_label(\"Start\")\n",
    "                      \n",
    "    def on_message(self, bus, message):\n",
    "        t = message.type\n",
    "        if t == Gst.MessageType.EOS:\n",
    "            self.player.set_state(Gst.State.NULL)\n",
    "            self.button.set_label(\"Start\")\n",
    "        elif t == Gst.MessageType.ERROR:\n",
    "            self.player.set_state(Gst.State.NULL)\n",
    "            err, debug = message.parse_error()\n",
    "            print \"Error: %s\" % err, debug\n",
    "            self.button.set_label(\"Start\")\n",
    "    \n",
    "\n",
    "Gst.init(None)\n",
    "GTK_Main()\n",
    "GObject.threads_init()\n",
    "Gtk.main()"
   ]
  },
  {
   "cell_type": "code",
   "execution_count": 13,
   "metadata": {
    "collapsed": false
   },
   "outputs": [],
   "source": [
    "! python2 playbin-example-audio.py"
   ]
  },
  {
   "cell_type": "code",
   "execution_count": 29,
   "metadata": {
    "collapsed": false
   },
   "outputs": [
    {
     "name": "stdout",
     "output_type": "stream",
     "text": [
      "Overwriting pipeline-example.py\n"
     ]
    }
   ],
   "source": [
    "%%writefile pipeline-example.py\n",
    "#!/usr/bin/env python\n",
    "\n",
    "import sys, os\n",
    "import gi\n",
    "gi.require_version('Gst', '1.0')\n",
    "gi.require_version('Gtk', '3.0')\n",
    "gi.require_version('GstBase', '1.0')\n",
    "from gi.repository import Gst, GObject, Gtk, GstBase\n",
    "\n",
    "class MySink(GstBase.BaseSink):\n",
    "    __gstmetadata__ = ('CustomSink','Sink', \\\n",
    "                      'Custom test sink element', 'Edward Hervey')\n",
    "\n",
    "    __gsttemplates__ = Gst.PadTemplate.new(\"sink\",\n",
    "                                           Gst.PadDirection.SINK,\n",
    "                                           Gst.PadPresence.ALWAYS,\n",
    "                                           Gst.Caps.new_any())\n",
    "\n",
    "    def do_render(self, buffer):\n",
    "        Gst.info(\"timestamp(buffer):%s\" % (Gst.TIME_ARGS(buffer.pts)))\n",
    "        return Gst.FlowReturn.OK\n",
    "\n",
    "GObject.type_register(MySink)\n",
    "\n",
    "class GTK_Main(object):\n",
    "    def __init__(self):\n",
    "        window = Gtk.Window(Gtk.WindowType.TOPLEVEL)\n",
    "        window.set_title(\"MP3-Player\")\n",
    "        window.set_default_size(400, 200)\n",
    "        window.connect(\"destroy\", Gtk.main_quit, \"WM destroy\")\n",
    "        vbox = Gtk.VBox()\n",
    "        window.add(vbox)\n",
    "        self.entry = Gtk.Entry()\n",
    "        vbox.pack_start(self.entry, False, True, 0)\n",
    "        self.button = Gtk.Button(\"Start\")\n",
    "        self.button.connect(\"clicked\", self.start_stop)\n",
    "        vbox.add(self.button)\n",
    "        window.show_all()\n",
    "        \n",
    "        self.player = Gst.Pipeline.new(\"player\")\n",
    "        source = Gst.ElementFactory.make(\"filesrc\", \"file-source\")\n",
    "        decoder = Gst.ElementFactory.make(\"mad\", \"mp3-decoder\")\n",
    "        conv = Gst.ElementFactory.make(\"audioconvert\", \"converter\")\n",
    "        sink = MySink() #Gst.ElementFactory.make(\"alsasink\", \"alsa-output\")\n",
    "        \n",
    "        self.player.add(source)\n",
    "        self.player.add(decoder)\n",
    "        self.player.add(conv)\n",
    "        self.player.add(sink)\n",
    "        source.link(decoder)\n",
    "        decoder.link(conv)\n",
    "        conv.link(sink)\n",
    "        \n",
    "        bus = self.player.get_bus()\n",
    "        bus.add_signal_watch()\n",
    "        bus.connect(\"message\", self.on_message)\n",
    "        \n",
    "    def start_stop(self, w):\n",
    "        if self.button.get_label() == \"Start\":\n",
    "            filepath = self.entry.get_text().strip()\n",
    "            if os.path.isfile(filepath):\n",
    "                filepath = os.path.realpath(filepath)\n",
    "                self.button.set_label(\"Stop\")\n",
    "                self.player.get_by_name(\"file-source\").set_property(\"location\", filepath)\n",
    "                self.player.set_state(Gst.State.PLAYING)\n",
    "            else:\n",
    "                self.player.set_state(Gst.State.NULL)\n",
    "                self.button.set_label(\"Start\")\n",
    "                \n",
    "    def on_message(self, bus, message):\n",
    "        t = message.type\n",
    "        if t == Gst.MessageType.EOS:\n",
    "            self.player.set_state(Gst.State.NULL)\n",
    "            self.button.set_label(\"Start\")\n",
    "        elif t == Gst.MessageType.ERROR:\n",
    "            self.player.set_state(Gst.State.NULL)\n",
    "            self.button.set_label(\"Start\")\n",
    "            err, debug = message.parse_error()\n",
    "            print \"Error: %s\" % err, debug\n",
    "            \n",
    "Gst.init(None)\n",
    "GTK_Main()\n",
    "GObject.threads_init()\n",
    "Gtk.main()"
   ]
  },
  {
   "cell_type": "code",
   "execution_count": 30,
   "metadata": {
    "collapsed": false
   },
   "outputs": [],
   "source": [
    "! python2 pipeline-example.py"
   ]
  },
  {
   "cell_type": "code",
   "execution_count": 21,
   "metadata": {
    "collapsed": false
   },
   "outputs": [
    {
     "name": "stdout",
     "output_type": "stream",
     "text": [
      "Setting pipeline to PAUSED ...\r\n",
      "ERROR: Pipeline doesn't want to pause.\r\n",
      "ERROR: from element /GstPipeline:pipeline0/GstFileSrc:filesrc0: Resource not found.\r\n",
      "Additional debug info:\r\n",
      "gstfilesrc.c(530): gst_file_src_start (): /GstPipeline:pipeline0/GstFileSrc:filesrc0:\r\n",
      "No such file \"file.mp3\"\r\n",
      "Setting pipeline to NULL ...\r\n",
      "Freeing pipeline ...\r\n"
     ]
    }
   ],
   "source": [
    "! gst-launch-1.0 filesrc location=file.mp3 ! mad ! audioconvert ! alsasink"
   ]
  },
  {
   "cell_type": "code",
   "execution_count": null,
   "metadata": {
    "collapsed": true
   },
   "outputs": [],
   "source": []
  }
 ],
 "metadata": {
  "hide_input": true,
  "kernelspec": {
   "display_name": "Python 2",
   "language": "python2",
   "name": "python2"
  },
  "language_info": {
   "codemirror_mode": {
    "name": "ipython",
    "version": 2
   },
   "file_extension": ".py",
   "mimetype": "text/x-python",
   "name": "python",
   "nbconvert_exporter": "python",
   "pygments_lexer": "ipython2",
   "version": "2.7.11"
  },
  "latex_envs": {
   "bibliofile": "biblio.bib",
   "cite_by": "apalike",
   "current_citInitial": 1,
   "eqLabelWithNumbers": true,
   "eqNumInitial": 0
  }
 },
 "nbformat": 4,
 "nbformat_minor": 0
}
