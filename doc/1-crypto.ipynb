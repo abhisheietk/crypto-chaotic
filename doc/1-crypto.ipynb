{
 "cells": [
  {
   "cell_type": "code",
   "execution_count": 153,
   "metadata": {
    "collapsed": false
   },
   "outputs": [],
   "source": [
    "!mkdir -p ../crypto-g1"
   ]
  },
  {
   "cell_type": "code",
   "execution_count": 154,
   "metadata": {
    "collapsed": false
   },
   "outputs": [
    {
     "name": "stdout",
     "output_type": "stream",
     "text": [
      "Writing ../crypto-g1/__init__.py\n"
     ]
    }
   ],
   "source": [
    "%%file ../crypto-g1/__init__.py\n",
    " "
   ]
  },
  {
   "cell_type": "code",
   "execution_count": 144,
   "metadata": {
    "collapsed": false
   },
   "outputs": [
    {
     "name": "stdout",
     "output_type": "stream",
     "text": [
      "Writing ../crypto-g/cipher.c\n"
     ]
    }
   ],
   "source": [
    "%%file ../crypto-g1/cipher.c\n",
    "#include \"cipher.h\"\n",
    "int cipher_encrypt(state *Text, key_state *Key) {\n",
    "\tint i;\n",
    "\tfor (i=0; i< 4; i++)\n",
    "\t{\n",
    "\t\tText->data[i] = Text->data[i] ^ Key->key[i];\n",
    "\t}\n",
    "    return 0;\n",
    "}\n",
    "\n",
    "int cipher_decrypt(state *Text, key_state *Key) {\n",
    "\tint i;\n",
    "\tfor (i=0; i< 4; i++)\n",
    "\t{\n",
    "\t\tText->data[i] = Text->data[i] ^ Key->key[i];\n",
    "\t} \n",
    "    return 0;\n",
    "}/**/"
   ]
  },
  {
   "cell_type": "code",
   "execution_count": 155,
   "metadata": {
    "collapsed": false
   },
   "outputs": [
    {
     "name": "stdout",
     "output_type": "stream",
     "text": [
      "Writing ../crypto-g1/cipher.h\n"
     ]
    }
   ],
   "source": [
    "%%file ../crypto-g1/cipher.h\n",
    "typedef struct\n",
    "{\n",
    "\tunsigned long data[4];\n",
    "}state;\n",
    "\n",
    "typedef struct\n",
    "{\n",
    "\tunsigned long key[4];\n",
    "}key_state;\n",
    "\n",
    "extern int cipher_encrypt(state *Text, key_state *Key);\n",
    "extern int cipher_decrypt(state *Text, key_state *Key);"
   ]
  },
  {
   "cell_type": "code",
   "execution_count": 156,
   "metadata": {
    "collapsed": false
   },
   "outputs": [
    {
     "name": "stdout",
     "output_type": "stream",
     "text": [
      "Writing ../crypto-g1/cipher.pxd\n"
     ]
    }
   ],
   "source": [
    "%%file ../crypto-g1/cipher.pxd\n",
    "cdef extern from \"cipher.h\":\n",
    "    struct state:\n",
    "        pass\n",
    "    struct key_state:\n",
    "        pass\n",
    "    void cipher_encrypt(state *Text, key_state *Key)\n",
    "    void cipher_decrypt(state *Text, key_state *Key)"
   ]
  },
  {
   "cell_type": "code",
   "execution_count": 157,
   "metadata": {
    "collapsed": false
   },
   "outputs": [
    {
     "name": "stdout",
     "output_type": "stream",
     "text": [
      "Writing ../crypto-g1/gcipher.pyx\n"
     ]
    }
   ],
   "source": [
    "%%file ../crypto-g1/gcipher.pyx\n",
    "#cimport cipher\n",
    "from libc.stdlib cimport malloc, free\n",
    "from cython.view cimport array as cvarray\n",
    "import numpy as np\n",
    "cimport numpy as np\n",
    "import cython\n",
    "'''\n",
    "cdef class Cipher:    \n",
    "    def __cinit__(self):\n",
    "        pass\n",
    "    \n",
    "    @cython.boundscheck(False)\n",
    "    @cython.wraparound(False)\n",
    "    def setkey(self, np.ndarray[dtype=unsigned long, mode=\"c\"] buff not None):\n",
    "        cdef key_state Key\n",
    "        Key.key[0] =  buff[0]\n",
    "        Key.key[1] =  buff[1]\n",
    "        Key.key[2] =  buff[2]\n",
    "        Key.key[3] =  buff[3]\n",
    "        self.key = Key        \n",
    "        return 0\n",
    "    \n",
    "    @cython.boundscheck(False)\n",
    "    @cython.wraparound(False)\n",
    "    def encrypt(self, np.ndarray[dtype=unsigned long, mode=\"c\"] buff not None):        \n",
    "        cdef state State\n",
    "        cdef key_state Key        \n",
    "        Key =  self.key\n",
    "        State.data[0] =  buff[0]\n",
    "        State.data[1] =  buff[1]\n",
    "        State.data[2] =  buff[2]\n",
    "        State.data[3] =  buff[3]\n",
    "        cipher.cipher_encrypt(&State, &Key)\n",
    "        return buff\n",
    "    '''\n",
    "    '''@cython.boundscheck(False)\n",
    "    @cython.wraparound(False)\n",
    "    def decrypt(self, np.ndarray[dtype=unsigned long, mode=\"c\"] buff not None):\n",
    "        cdef state self.State\n",
    "        self.State =  buff[0]\n",
    "        self.State =  buff[1]\n",
    "        self.State =  buff[2]\n",
    "        self.State =  buff[3]\n",
    "        cipher.cipher_decrypt(&self.State, &self.key)\n",
    "        return buff\n",
    "    '''"
   ]
  },
  {
   "cell_type": "code",
   "execution_count": 159,
   "metadata": {
    "collapsed": false
   },
   "outputs": [
    {
     "name": "stdout",
     "output_type": "stream",
     "text": [
      "~/devel/crypto-g ~/devel/crypto-g/docs\n",
      "Compiling crypto-g1/gcipher.pyx because it changed.\n",
      "Cythonizing crypto-g1/gcipher.pyx\n",
      "Compiling crypto-g1/gcipher.pyx because it changed.\n",
      "Cythonizing crypto-g1/gcipher.pyx\n",
      "~/devel/crypto-g/docs\n"
     ]
    },
    {
     "name": "stderr",
     "output_type": "stream",
     "text": [
      "\n",
      "Error compiling Cython file:\n",
      "------------------------------------------------------------\n",
      "...\n",
      "#cimport cipher\n",
      "^\n",
      "------------------------------------------------------------\n",
      "\n",
      "crypto-g1/gcipher.pyx:1:0: 'crypto-g.crypto-g1.gcipher' is not a valid module name\n",
      "Traceback (most recent call last):\n",
      "  File \"setup.py\", line 11, in <module>\n",
      "    libraries=['cipher'],\n",
      "  File \"/usr/lib64/python2.7/site-packages/Cython/Build/Dependencies.py\", line 840, in cythonize\n",
      "    cythonize_one(*args[1:])\n",
      "  File \"/usr/lib64/python2.7/site-packages/Cython/Build/Dependencies.py\", line 959, in cythonize_one\n",
      "    raise CompileError(None, pyx_file)\n",
      "Cython.Compiler.Errors.CompileError: crypto-g1/gcipher.pyx\n",
      "\n",
      "Error compiling Cython file:\n",
      "------------------------------------------------------------\n",
      "...\n",
      "#cimport cipher\n",
      "^\n",
      "------------------------------------------------------------\n",
      "\n",
      "crypto-g1/gcipher.pyx:1:0: 'crypto-g.crypto-g1.gcipher' is not a valid module name\n",
      "Traceback (most recent call last):\n",
      "  File \"setup.py\", line 11, in <module>\n",
      "    libraries=['cipher'],\n",
      "  File \"/usr/lib64/python2.7/site-packages/Cython/Build/Dependencies.py\", line 840, in cythonize\n",
      "    cythonize_one(*args[1:])\n",
      "  File \"/usr/lib64/python2.7/site-packages/Cython/Build/Dependencies.py\", line 959, in cythonize_one\n",
      "    raise CompileError(None, pyx_file)\n",
      "Cython.Compiler.Errors.CompileError: crypto-g1/gcipher.pyx\n"
     ]
    }
   ],
   "source": [
    "%%bash\n",
    "pushd ../\n",
    "python setup.py clean\n",
    "python setup.py build\n",
    "popd"
   ]
  },
  {
   "cell_type": "code",
   "execution_count": 87,
   "metadata": {
    "collapsed": false
   },
   "outputs": [],
   "source": []
  },
  {
   "cell_type": "code",
   "execution_count": 82,
   "metadata": {
    "collapsed": false
   },
   "outputs": [],
   "source": []
  },
  {
   "cell_type": "code",
   "execution_count": null,
   "metadata": {
    "collapsed": false
   },
   "outputs": [],
   "source": []
  }
 ],
 "metadata": {
  "kernelspec": {
   "display_name": "Python 2",
   "language": "python",
   "name": "python2"
  },
  "language_info": {
   "codemirror_mode": {
    "name": "ipython",
    "version": 2
   },
   "file_extension": ".py",
   "mimetype": "text/x-python",
   "name": "python",
   "nbconvert_exporter": "python",
   "pygments_lexer": "ipython2",
   "version": "2.7.10"
  }
 },
 "nbformat": 4,
 "nbformat_minor": 0
}
