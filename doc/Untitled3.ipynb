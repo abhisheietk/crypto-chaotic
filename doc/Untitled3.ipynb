{
 "cells": [
  {
   "cell_type": "code",
   "execution_count": 4,
   "metadata": {
    "collapsed": false
   },
   "outputs": [
    {
     "name": "stdout",
     "output_type": "stream",
     "text": [
      "Writing recode_audio.py\n"
     ]
    }
   ],
   "source": [
    "%%writefile recode_audio.py\n",
    "#! /bin/env python\n",
    "\n",
    "import sys, time, traceback\n",
    "\n",
    "########################################################################3\n",
    "# Simple  audio encoder \n",
    "def recodeAudio( fName, fOutput, type, bitrate= None ):\n",
    "    # ------------------------------------\n",
    "\n",
    "    import pymedia.audio.acodec as acodec\n",
    "    import pymedia.muxer as muxer\n",
    "    # Open demuxer\n",
    "\n",
    "    dm= muxer.Demuxer( fName.split( '.' )[ -1 ].lower() )\n",
    "    f= open( fName, 'rb' )\n",
    "    s= f.read( 90000 )\n",
    "    dec= enc= mx= None\n",
    "    print 'Recoding %s into %s' % ( fName, fOutput )\n",
    "    while len( s ):\n",
    "        frames= dm.parse( s )\n",
    "        if frames:\n",
    "            for fr in frames:\n",
    "                # Assume for now only audio streams\n",
    "\n",
    "                if dec== None:\n",
    "                    # Open decoder\n",
    "\n",
    "                    dec= acodec.Decoder( dm.streams[ fr[ 0 ] ] )\n",
    "                    print 'Decoder params:', dm.streams[ fr[ 0 ] ]\n",
    "\n",
    "                # Decode audio frame\n",
    "\n",
    "                r= dec.decode( fr[ 1 ] )\n",
    "                if r:\n",
    "                    if bitrate== None:\n",
    "                        bitrate= r.bitrate\n",
    "\n",
    "                    # Open muxer and encoder\n",
    "\n",
    "                    if enc== None:\n",
    "                        params= { 'id': acodec.getCodecID(type),\n",
    "                                  'bitrate': bitrate,\n",
    "                                  'sample_rate': r.sample_rate,\n",
    "                                  'channels': r.channels }\n",
    "                        print 'Encoder params:', params\n",
    "                        mx= muxer.Muxer( type )\n",
    "                        stId= mx.addStream( muxer.CODEC_TYPE_AUDIO, params )\n",
    "                        enc= acodec.Encoder( params )\n",
    "                        fw= open(fOutput, 'wb')\n",
    "                        ss= mx.start()\n",
    "                        fw.write(ss)\n",
    "\n",
    "                enc_frames= enc.encode( r.data )\n",
    "                if enc_frames:\n",
    "                    for efr in enc_frames:\n",
    "                        ss= mx.write( stId, efr )\n",
    "                        if ss:\n",
    "                            fw.write(ss)\n",
    "\n",
    "        s= f.read( 100000 )\n",
    "\n",
    "    f.close()\n",
    "  \n",
    "    if fw:\n",
    "        if mx:\n",
    "            ss= mx.end()\n",
    "            if ss:\n",
    "                fw.write(ss)\n",
    "        fw.close()\n",
    "\n",
    "# ----------------------------------------------------------------------------------\n",
    "\n",
    "# Change the format of your compressed audio files to something different\n",
    "\n",
    "# http://pymedia.org/\n",
    "\n",
    "if __name__== '__main__':\n",
    "    if len( sys.argv )< 4 or len( sys.argv )> 5:\n",
    "        print \"Usage: recode_audio.py <audio_input_file> <audio_output_file> <format_name> [ <bitrate> ]\"\n",
    "    else:\n",
    "        if len( sys.argv )== 4:\n",
    "            recodeAudio( sys.argv[1], sys.argv[2], sys.argv[3] )\n",
    "        else:\n",
    "            recodeAudio( sys.argv[1], sys.argv[2], sys.argv[3], int( sys.argv[4] )* 1000 )\n",
    "\n",
    "\n"
   ]
  },
  {
   "cell_type": "code",
   "execution_count": 5,
   "metadata": {
    "collapsed": false
   },
   "outputs": [
    {
     "name": "stdout",
     "output_type": "stream",
     "text": [
      "Traceback (most recent call last):\r\n",
      "  File \"recode_audio.py\", line 82, in <module>\r\n",
      "    recodeAudio( sys.argv[1], sys.argv[2], sys.argv[3] )\r\n",
      "  File \"recode_audio.py\", line 10, in recodeAudio\r\n",
      "    import pymedia.audio.acodec as acodec\r\n",
      "ImportError: No module named pymedia.audio.acodec\r\n"
     ]
    }
   ],
   "source": [
    "!python2 recode_audio.py samples/1.mp3 samples/2.ogg ogg"
   ]
  },
  {
   "cell_type": "code",
   "execution_count": null,
   "metadata": {
    "collapsed": true
   },
   "outputs": [],
   "source": []
  }
 ],
 "metadata": {
  "hide_input": true,
  "kernelspec": {
   "display_name": "Python 2",
   "language": "python2",
   "name": "python2"
  },
  "language_info": {
   "codemirror_mode": {
    "name": "ipython",
    "version": 2
   },
   "file_extension": ".py",
   "mimetype": "text/x-python",
   "name": "python",
   "nbconvert_exporter": "python",
   "pygments_lexer": "ipython2",
   "version": "2.7.11"
  },
  "latex_envs": {
   "bibliofile": "biblio.bib",
   "cite_by": "apalike",
   "current_citInitial": 1,
   "eqLabelWithNumbers": true,
   "eqNumInitial": 0
  }
 },
 "nbformat": 4,
 "nbformat_minor": 0
}
