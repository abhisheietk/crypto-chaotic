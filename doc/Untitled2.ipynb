{
 "cells": [
  {
   "cell_type": "code",
   "execution_count": 5,
   "metadata": {
    "collapsed": false
   },
   "outputs": [
    {
     "ename": "SyntaxError",
     "evalue": "invalid syntax (<ipython-input-5-bc23a39972fe>, line 18)",
     "output_type": "error",
     "traceback": [
      "\u001b[1;36m  File \u001b[1;32m\"<ipython-input-5-bc23a39972fe>\"\u001b[1;36m, line \u001b[1;32m18\u001b[0m\n\u001b[1;33m    print 'Recoding %s into %s' % ( fName, fOutput )\u001b[0m\n\u001b[1;37m                              ^\u001b[0m\n\u001b[1;31mSyntaxError\u001b[0m\u001b[1;31m:\u001b[0m invalid syntax\n"
     ]
    }
   ],
   "source": [
    "#! /bin/env python\n",
    "\n",
    "import sys, time, traceback\n",
    "\n",
    "########################################################################3\n",
    "# Simple  audio encoder \n",
    "def recodeAudio( fName, fOutput, type, bitrate= None ):\n",
    "    # ------------------------------------\n",
    "\n",
    "    import pymedia.audio.acodec as acodec\n",
    "    import pymedia.muxer as muxer\n",
    "    # Open demuxer\n",
    "\n",
    "    dm= muxer.Demuxer( fName.split( '.' )[ -1 ].lower() )\n",
    "    f= open( fName, 'rb' )\n",
    "    s= f.read( 90000 )\n",
    "    dec= enc= mx= None\n",
    "    print 'Recoding %s into %s' % ( fName, fOutput )\n",
    "    while len( s ):\n",
    "        frames= dm.parse( s )\n",
    "        if frames:\n",
    "            for fr in frames:\n",
    "            # Assume for now only audio streams\n",
    "\n",
    "            if dec== None:\n",
    "                # Open decoder\n",
    "\n",
    "                dec= acodec.Decoder( dm.streams[ fr[ 0 ] ] )\n",
    "                print 'Decoder params:', dm.streams[ fr[ 0 ] ]\n",
    "\n",
    "            # Decode audio frame\n",
    "\n",
    "            r= dec.decode( fr[ 1 ] )\n",
    "            if r:\n",
    "                if bitrate== None:\n",
    "                bitrate= r.bitrate\n",
    "\n",
    "                # Open muxer and encoder\n",
    "\n",
    "                if enc== None:\n",
    "                    params= { 'id': acodec.getCodecID(type),\n",
    "                              'bitrate': bitrate,\n",
    "                              'sample_rate': r.sample_rate,\n",
    "                              'channels': r.channels }\n",
    "                    print 'Encoder params:', params\n",
    "                    mx= muxer.Muxer( type )\n",
    "                    stId= mx.addStream( muxer.CODEC_TYPE_AUDIO, params )\n",
    "                    enc= acodec.Encoder( params )\n",
    "                    fw= open(fOutput, 'wb')\n",
    "                    ss= mx.start()\n",
    "                    fw.write(ss)\n",
    "\n",
    "            enc_frames= enc.encode( r.data )\n",
    "            if enc_frames:\n",
    "                for efr in enc_frames:\n",
    "                    ss= mx.write( stId, efr )\n",
    "                    if ss:\n",
    "                        fw.write(ss)\n",
    "\n",
    "        s= f.read( 100000 )\n",
    "\n",
    "    f.close()\n",
    "  \n",
    "    if fw:\n",
    "        if mx:\n",
    "            ss= mx.end()\n",
    "            if ss:\n",
    "                fw.write(ss)\n",
    "        fw.close()\n",
    "\n",
    "# ----------------------------------------------------------------------------------\n",
    "\n",
    "# Change the format of your compressed audio files to something different\n",
    "\n",
    "# http://pymedia.org/\n",
    "\n",
    "if __name__== '__main__':\n",
    "    if len( sys.argv )< 4 or len( sys.argv )> 5:\n",
    "        print \"Usage: recode_audio.py <audio_input_file> <audio_output_file> <format_name> [ <bitrate> ]\"\n",
    "    else:\n",
    "        if len( sys.argv )== 4:\n",
    "            recodeAudio( sys.argv[1], sys.argv[2], sys.argv[3] )\n",
    "        else:\n",
    "            recodeAudio( sys.argv[1], sys.argv[2], sys.argv[3], int( sys.argv[4] )* 1000 )\n",
    "\n",
    "\n"
   ]
  },
  {
   "cell_type": "code",
   "execution_count": null,
   "metadata": {
    "collapsed": true
   },
   "outputs": [],
   "source": []
  }
 ],
 "metadata": {
  "hide_input": true,
  "kernelspec": {
   "display_name": "Python 3",
   "language": "python",
   "name": "python3"
  },
  "language_info": {
   "codemirror_mode": {
    "name": "ipython",
    "version": 3
   },
   "file_extension": ".py",
   "mimetype": "text/x-python",
   "name": "python",
   "nbconvert_exporter": "python",
   "pygments_lexer": "ipython3",
   "version": "3.5.1"
  },
  "latex_envs": {
   "bibliofile": "biblio.bib",
   "cite_by": "apalike",
   "current_citInitial": 1,
   "eqLabelWithNumbers": true,
   "eqNumInitial": 0
  }
 },
 "nbformat": 4,
 "nbformat_minor": 0
}
