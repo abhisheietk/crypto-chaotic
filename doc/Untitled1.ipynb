{
 "cells": [
  {
   "cell_type": "code",
   "execution_count": null,
   "metadata": {
    "collapsed": false
   },
   "outputs": [],
   "source": [
    "#!/usr/bin/env python\n",
    "import gi\n",
    "gi.require_version('GstBase', '1.0')\n",
    "gi.require_version('Gtk', '3.0')\n",
    "gi.require_version('Gst', '1.0')\n",
    "from gi.repository import GObject, Gst, Gtk, GstBase\n",
    "#GObject.threads_init()\n",
    "Gst.init(None)\n",
    "\n",
    "#\n",
    "# Simple Sink element created entirely in python\n",
    "#\n",
    "class MySink(GstBase.BaseSink):\n",
    "    __gstmetadata__ = ('CustomSink','Sink', \\\n",
    "                      'Custom test sink element', 'Edward Hervey')\n",
    "\n",
    "    __gsttemplates__ = Gst.PadTemplate.new(\"sink\",\n",
    "                                           Gst.PadDirection.SINK,\n",
    "                                           Gst.PadPresence.ALWAYS,\n",
    "                                           Gst.Caps.new_any())\n",
    "\n",
    "    def do_render(self, buffer):\n",
    "        Gst.info(\"timestamp(buffer):%s\" % (Gst.TIME_ARGS(buffer.pts)))\n",
    "        return Gst.FlowReturn.OK\n",
    "\n",
    "GObject.type_register(MySink)\n",
    "__gstelementfactory__ = (\"mysink\", Gst.Rank.NONE, MySink)\n",
    "\n",
    "\n",
    "pipeline = Gst.Pipeline()\n",
    "\n",
    "autoaudiosrc = Gst.ElementFactory.make(\"autoaudiosrc\", \"autoaudiosrc\")\n",
    "audioconvert = Gst.ElementFactory.make(\"audioconvert\", \"audioconvert\")\n",
    "vorbisenc = Gst.ElementFactory.make(\"vorbisenc\", \"vorbisenc\")\n",
    "oggmux = Gst.ElementFactory.make(\"oggmux\", \"oggmux\")\n",
    "filesink = MySink() #Gst.ElementFactory.make(\"mysink\", \"mysink\")\n",
    "url = \"1.ogg\"\n",
    "#filesink.set_property(\"location\",url)\n",
    "pipeline.add( autoaudiosrc)\n",
    "pipeline.add( audioconvert)\n",
    "pipeline.add( vorbisenc)\n",
    "pipeline.add( oggmux)\n",
    "pipeline.add( filesink)\n",
    "\n",
    "autoaudiosrc.link( audioconvert)\n",
    "audioconvert.link( vorbisenc)\n",
    "vorbisenc.link( oggmux)\n",
    "oggmux.link( filesink)\n",
    "\n",
    "pipeline.set_state(Gst.State.PLAYING)\n",
    "Gtk.main()"
   ]
  },
  {
   "cell_type": "code",
   "execution_count": 2,
   "metadata": {
    "collapsed": false
   },
   "outputs": [
    {
     "ename": "ImportError",
     "evalue": "No module named gst",
     "output_type": "error",
     "traceback": [
      "\u001b[1;31m---------------------------------------------------------------------------\u001b[0m",
      "\u001b[1;31mImportError\u001b[0m                               Traceback (most recent call last)",
      "\u001b[1;32m<ipython-input-2-759a4e0b765e>\u001b[0m in \u001b[0;36m<module>\u001b[1;34m()\u001b[0m\n\u001b[0;32m     11\u001b[0m \u001b[1;31m#import pygst\u001b[0m\u001b[1;33m\u001b[0m\u001b[1;33m\u001b[0m\u001b[0m\n\u001b[0;32m     12\u001b[0m \u001b[1;31m#pygst.require('0.10')\u001b[0m\u001b[1;33m\u001b[0m\u001b[1;33m\u001b[0m\u001b[0m\n\u001b[1;32m---> 13\u001b[1;33m \u001b[1;32mimport\u001b[0m \u001b[0mgst\u001b[0m\u001b[1;33m\u001b[0m\u001b[0m\n\u001b[0m\u001b[0;32m     14\u001b[0m \u001b[1;33m\u001b[0m\u001b[0m\n\u001b[0;32m     15\u001b[0m \u001b[1;32mclass\u001b[0m \u001b[0mBufsrc\u001b[0m\u001b[1;33m(\u001b[0m\u001b[0mgst\u001b[0m\u001b[1;33m.\u001b[0m\u001b[0mBaseSrc\u001b[0m\u001b[1;33m)\u001b[0m\u001b[1;33m:\u001b[0m\u001b[1;33m\u001b[0m\u001b[0m\n",
      "\u001b[1;31mImportError\u001b[0m: No module named gst"
     ]
    }
   ],
   "source": [
    "\n",
    "#!/usr/bin/env python\n",
    "\"\"\" Source buf \"\"\"\n",
    "# -*- Mode: Python -*-\n",
    "# vi:si:et:sw=4:sts=4:ts=4\n",
    "#\n",
    "\n",
    "import gobject\n",
    "gobject.threads_init()\n",
    "\n",
    "#import pygst\n",
    "#pygst.require('0.10')\n",
    "import gst\n",
    "\n",
    "class Bufsrc(gst.BaseSrc):\n",
    "    \"\"\" Push text \"\"\"\n",
    "    #here we register our plugin details\n",
    "    __gstdetails__ = (\n",
    "        \"bufsrc test plugin\",\n",
    "        \"bufsrc.py\",\n",
    "        \"Source element that create a buffer\",\n",
    "        \"Oleksandr Lavrushchenko <____@gmail.com>\")\n",
    " \n",
    "    _src_template = gst.PadTemplate (\"src\",\n",
    "                                     gst.PAD_SRC,\n",
    "                                     gst.PAD_ALWAYS,\n",
    "                                     gst.caps_new_any ())\n",
    " \n",
    "    __gsttemplates__ = (_src_template,)\n",
    " \n",
    "    def __init__ (self, *args, **kwargs):\n",
    "        gst.BaseSrc.__init__(self)\n",
    "        gst.info('creating srcpad')\n",
    "        self.src_pad = gst.Pad (self._src_template)\n",
    "        self.src_pad.use_fixed_caps()\n",
    "\n",
    "        #self.add_pad (self.src_pad)\n",
    "\n",
    "    def do_create(self, offset, length):\n",
    "        buf = gst.Buffer(\"data\\n\")\n",
    "        buf.timestamp = 0\n",
    "        buf.duration = pow(2, 63) -1\n",
    "        return gst.FLOW_OK, buf\n",
    "\n",
    "# Register element class\n",
    "gobject.type_register(Bufsrc)\n",
    "gst.element_register(Bufsrc, 'bufsrc', gst.RANK_MARGINAL)\n",
    "\n",
    "sink = gst.element_factory_make(\"udpsink\", \"sink\")\n",
    "sink.set_property(\"port\", 5000)\n",
    "sink.set_property(\"host\", \"127.0.0.1\")\n",
    "\n",
    "pusher = Bufsrc()\n",
    "\n",
    "player = gst.Pipeline(\"player\")\n",
    "player.add(pusher, sink)\n",
    "gst.element_link_many(pusher2, sink)\n",
    "\n",
    "player.set_state(gst.STATE_PLAYING)\n",
    "\n",
    "gobject.MainLoop().run()"
   ]
  },
  {
   "cell_type": "code",
   "execution_count": 15,
   "metadata": {
    "collapsed": false
   },
   "outputs": [
    {
     "name": "stdout",
     "output_type": "stream",
     "text": [
      "Overwriting plugins/mysink.py\n"
     ]
    }
   ],
   "source": [
    "%%writefile plugins/mysink.py\n",
    "#!/usr/bin/env python\n",
    "# -*- Mode: Python -*-\n",
    "# vi:si:et:sw=4:sts=4:ts=4\n",
    "\n",
    "# sinkelement.py\n",
    "# (c) 2005 Edward Hervey <edward@fluendo.com>\n",
    "# (c) 2007 Jan Schmidt <jan@fluendo.com>\n",
    "# Licensed under LGPL\n",
    "#\n",
    "# Small test application to show how to write a sink element\n",
    "# in 20 lines in python and place into the gstreamer registry\n",
    "# so it can be autoplugged or used from parse_launch.\n",
    "#\n",
    "# You can run the example from the source doing from gst-python/:\n",
    "#\n",
    "#  $ export GST_PLUGIN_PATH=$GST_PLUGIN_PATH:$PWD/plugin:$PWD/examples/plugins\n",
    "#  $ GST_DEBUG=python:4 gst-launch-1.0 fakesrc num-buffers=10 ! mysink\n",
    "\n",
    "#gi.require_version('Gtk', '3.0')\n",
    "import gi\n",
    "gi.require_version('GstBase', '1.0')\n",
    "gi.require_version('Gst', '1.0')\n",
    "from gi.repository import Gst, GObject, GstBase\n",
    "Gst.init(None)\n",
    "\n",
    "#\n",
    "# Simple Sink element created entirely in python\n",
    "#\n",
    "class MySink(GstBase.BaseSink):\n",
    "    __gstmetadata__ = ('CustomSink','Sink', \\\n",
    "                      'Custom test sink element', 'Edward Hervey')\n",
    "\n",
    "    __gsttemplates__ = Gst.PadTemplate.new(\"sink\",\n",
    "                                           Gst.PadDirection.SINK,\n",
    "                                           Gst.PadPresence.ALWAYS,\n",
    "                                           Gst.Caps.new_any())\n",
    "\n",
    "    def do_render(self, buffer):\n",
    "        Gst.info(\"timestamp(buffer):%s\" % (Gst.TIME_ARGS(buffer.pts)))\n",
    "        return Gst.FlowReturn.OK\n",
    "\n",
    "GObject.type_register(MySink)\n",
    "__gstelementfactory__ = (\"mysink\", Gst.Rank.NONE, MySink)\n"
   ]
  },
  {
   "cell_type": "code",
   "execution_count": 18,
   "metadata": {
    "collapsed": false
   },
   "outputs": [
    {
     "name": "stderr",
     "output_type": "stream",
     "text": [
      "WARNING: erroneous pipeline: No sink-element named \"(null)\" - omitting link\n"
     ]
    }
   ],
   "source": [
    "%%sh\n",
    "export GST_PLUGIN_PATH=$GST_PLUGIN_PATH:$PWD/plugin\n",
    "#:$PWD/examples/plugins \n",
    "GST_DEBUG=python:4 gst-launch-1.0 fakesrc num-buffers=10 ! mysink.py"
   ]
  },
  {
   "cell_type": "code",
   "execution_count": 17,
   "metadata": {
    "collapsed": false
   },
   "outputs": [],
   "source": [
    "!plugins/mysink.py"
   ]
  },
  {
   "cell_type": "code",
   "execution_count": 1,
   "metadata": {
    "collapsed": false
   },
   "outputs": [
    {
     "name": "stderr",
     "output_type": "stream",
     "text": [
      "-c:4: PyGIWarning: Gtk was imported without specifying a version first. Use gi.require_version('Gtk', '3.0') before import to ensure that the right version gets loaded.\n",
      "-c:71: PyGIDeprecationWarning: Since version 3.11, calling threads_init is no longer needed. See: https://wiki.gnome.org/PyGObject/Threading\n",
      "-c:9: PyGTKDeprecationWarning: Using positional arguments with the GObject constructor has been deprecated. Please specify keyword(s) for \"type\" or use a class specific constructor. See: https://wiki.gnome.org/PyGObject/InitializerDeprecations\n",
      "-c:17: PyGTKDeprecationWarning: Using positional arguments with the GObject constructor has been deprecated. Please specify keyword(s) for \"label\" or use a class specific constructor. See: https://wiki.gnome.org/PyGObject/InitializerDeprecations\n"
     ]
    }
   ],
   "source": [
    "import sys, os\n",
    "import gi\n",
    "gi.require_version('Gst', '1.0')\n",
    "from gi.repository import Gst, GObject, Gtk\n",
    "\n",
    "class GTK_Main(object):\n",
    "    \n",
    "    def __init__(self):\n",
    "        window = Gtk.Window(Gtk.WindowType.TOPLEVEL)\n",
    "        window.set_title(\"Vorbis-Player\")\n",
    "        window.set_default_size(500, 200)\n",
    "        window.connect(\"destroy\", Gtk.main_quit, \"WM destroy\")\n",
    "        vbox = Gtk.VBox()\n",
    "        window.add(vbox)\n",
    "        self.entry = Gtk.Entry()\n",
    "        vbox.pack_start(self.entry, False, False, 0)\n",
    "        self.button = Gtk.Button(\"Start\")\n",
    "        vbox.add(self.button)\n",
    "        self.button.connect(\"clicked\", self.start_stop)\n",
    "        window.show_all()\n",
    "        \n",
    "        self.player = Gst.Pipeline.new(\"player\")\n",
    "        source = Gst.ElementFactory.make(\"filesrc\", \"file-source\")\n",
    "        demuxer = Gst.ElementFactory.make(\"oggdemux\", \"demuxer\")\n",
    "        demuxer.connect(\"pad-added\", self.demuxer_callback)\n",
    "        self.audio_decoder = Gst.ElementFactory.make(\"vorbisdec\", \"vorbis-decoder\")\n",
    "        audioconv = Gst.ElementFactory.make(\"audioconvert\", \"converter\")\n",
    "        audiosink = Gst.ElementFactory.make(\"autoaudiosink\", \"audio-output\")\n",
    "        \n",
    "        self.player.add(source)\n",
    "        self.player.add(demuxer)\n",
    "        self.player.add(self.audio_decoder)\n",
    "        self.player.add(audioconv)\n",
    "        self.player.add(audiosink)\n",
    "\n",
    "        source.link(demuxer)\n",
    "        self.audio_decoder.link(audioconv)\n",
    "        audioconv.link(audiosink)\n",
    "        \n",
    "        bus = self.player.get_bus()\n",
    "        bus.add_signal_watch()\n",
    "        bus.connect(\"message\", self.on_message)\n",
    "\n",
    "    def start_stop(self, w):\n",
    "        if self.button.get_label() == \"Start\":\n",
    "            filepath = self.entry.get_text()\n",
    "            if os.path.isfile(filepath):\n",
    "                self.button.set_label(\"Stop\")\n",
    "                self.player.get_by_name(\"file-source\").set_property(\"location\", filepath)\n",
    "                self.player.set_state(Gst.State.PLAYING)\n",
    "        else:\n",
    "            self.player.set_state(Gst.State.NULL)\n",
    "            self.button.set_label(\"Start\")\n",
    "\n",
    "    def on_message(self, bus, message):\n",
    "        t = message.type\n",
    "        if t == Gst.MessageType.EOS:\n",
    "            self.player.set_state(Gst.State.NULL)\n",
    "            self.button.set_label(\"Start\")\n",
    "        elif t == Gst.MessageType.ERROR:\n",
    "            err, debug = message.parse_error()\n",
    "            print \"Error: %s\" % err, debug\n",
    "            self.player.set_state(Gst.State.NULL)\n",
    "            self.button.set_label(\"Start\")\n",
    "    \n",
    "    def demuxer_callback(self, demuxer, pad):\n",
    "        adec_pad = self.audio_decoder.get_static_pad(\"sink\")\n",
    "        pad.link(adec_pad)\n",
    "\n",
    "\n",
    "GObject.threads_init()\n",
    "Gst.init(None)        \n",
    "GTK_Main()\n",
    "Gtk.main()"
   ]
  },
  {
   "cell_type": "code",
   "execution_count": null,
   "metadata": {
    "collapsed": true
   },
   "outputs": [],
   "source": []
  }
 ],
 "metadata": {
  "hide_input": true,
  "kernelspec": {
   "display_name": "Python 2",
   "language": "python",
   "name": "python2"
  },
  "language_info": {
   "codemirror_mode": {
    "name": "ipython",
    "version": 2
   },
   "file_extension": ".py",
   "mimetype": "text/x-python",
   "name": "python",
   "nbconvert_exporter": "python",
   "pygments_lexer": "ipython2",
   "version": "2.7.10"
  },
  "latex_envs": {
   "bibliofile": "biblio.bib",
   "cite_by": "apalike",
   "current_citInitial": 1,
   "eqLabelWithNumbers": true,
   "eqNumInitial": 0
  }
 },
 "nbformat": 4,
 "nbformat_minor": 0
}
