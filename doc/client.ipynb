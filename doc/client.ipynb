{
 "cells": [
  {
   "cell_type": "code",
   "execution_count": 1,
   "metadata": {
    "collapsed": false
   },
   "outputs": [
    {
     "name": "stdout",
     "output_type": "stream",
     "text": [
      "Overwriting ../crypto_chaotic/audioClient.py\n"
     ]
    }
   ],
   "source": [
    "%%writefile ../crypto_chaotic/audioClient.py\n",
    "#!/usr/bin/env python\n",
    "\n",
    "import pyaudio\n",
    "import wave\n",
    "from twisted.internet.protocol import DatagramProtocol\n",
    "from twisted.internet import reactor\n",
    "\n",
    "CHUNK = 1024\n",
    "FORMAT = pyaudio.paInt16\n",
    "CHANNELS = 2\n",
    "RATE = 44100\n",
    "RECORD_SECONDS = 1\n",
    "#WAVE_OUTPUT_FILENAME = \"output.wav\"\n",
    "\n",
    "class EchoClientDatagramProtocol(DatagramProtocol):\n",
    "    p = pyaudio.PyAudio()\n",
    "\n",
    "    inputStream = p.open(format=FORMAT,\n",
    "                         channels=CHANNELS,\n",
    "                         rate=RATE,\n",
    "                         input=True,\n",
    "                         frames_per_buffer=CHUNK)\n",
    "\n",
    "    #outputStream = p.open(format=FORMAT,\n",
    "    #                      channels=CHANNELS,\n",
    "    #                      rate=RATE,\n",
    "    #                      output=True)\n",
    "    framectr = 0\n",
    "    \n",
    "    def startProtocol(self):\n",
    "        self.transport.connect('127.0.0.1', 8000)\n",
    "        self.sendDatagram()\n",
    "    \n",
    "    def sendDatagram(self):\n",
    "        print self.framectr\n",
    "        if self.framectr <= 10: #int(RATE / CHUNK * RECORD_SECONDS):#if len(self.strings):\n",
    "            data = ' ' #self.inputStream.read(CHUNK)\n",
    "            self.transport.write(data)\n",
    "        else:\n",
    "            reactor.stop()\n",
    "            self.inputStream.stop_stream()\n",
    "            self.inputStream.close()\n",
    "            #self.outputStream.stop_stream()\n",
    "            #self.outputStream.close()\n",
    "            self.p.terminate()\n",
    "        self.framectr += 1\n",
    "\n",
    "    def datagramReceived(self, datagram, host):\n",
    "        #print 'Datagram received: ', repr(datagram)\n",
    "        if self.outputStream:\n",
    "            #self.outputStream.write(datagram)\n",
    "            self.sendDatagram()\n",
    "\n",
    "def main():\n",
    "    protocol = EchoClientDatagramProtocol()\n",
    "    t = reactor.listenUDP(0, protocol)\n",
    "    reactor.run()\n",
    "\n",
    "if __name__ == '__main__':\n",
    "    main()"
   ]
  },
  {
   "cell_type": "code",
   "execution_count": null,
   "metadata": {
    "collapsed": false
   },
   "outputs": [],
   "source": [
    "%%bash\n",
    "pushd ../crypto_chaotic\n",
    "python2 -m audioClient"
   ]
  },
  {
   "cell_type": "code",
   "execution_count": null,
   "metadata": {
    "collapsed": true
   },
   "outputs": [],
   "source": []
  }
 ],
 "metadata": {
  "hide_input": true,
  "kernelspec": {
   "display_name": "Python 2",
   "language": "python2",
   "name": "python2"
  },
  "language_info": {
   "codemirror_mode": {
    "name": "ipython",
    "version": 2
   },
   "file_extension": ".py",
   "mimetype": "text/x-python",
   "name": "python",
   "nbconvert_exporter": "python",
   "pygments_lexer": "ipython2",
   "version": "2.7.11"
  },
  "latex_envs": {
   "bibliofile": "biblio.bib",
   "cite_by": "apalike",
   "current_citInitial": 1,
   "eqLabelWithNumbers": true,
   "eqNumInitial": 0
  }
 },
 "nbformat": 4,
 "nbformat_minor": 0
}
