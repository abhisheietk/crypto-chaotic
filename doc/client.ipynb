{
 "cells": [
  {
   "cell_type": "code",
   "execution_count": 1,
   "metadata": {
    "collapsed": false
   },
   "outputs": [
    {
     "name": "stderr",
     "output_type": "stream",
     "text": [
      "/home/abhishek/usr/local/lib/python2.7/site-packages/cffi/model.py:526: UserWarning: 'point_conversion_form_t' has no values explicitly defined; next version will refuse to guess which integer type it is meant to be (unsigned/signed, int/long)\n",
      "  % self._get_c_name())\n"
     ]
    }
   ],
   "source": [
    "#%%writefile ../crypto_chaotic/audioClient.py\n",
    "#!/usr/bin/env python\n",
    "\n",
    "import pyaudio\n",
    "import wave\n",
    "from twisted.internet.protocol import DatagramProtocol\n",
    "from twisted.internet import reactor\n",
    "import numpy as np\n",
    "from crypto_chaotic.modulation import drawfft\n",
    "\n",
    "CHUNK = 1024\n",
    "FORMAT = pyaudio.paInt16\n",
    "CHANNELS = 2\n",
    "RATE = 44100\n",
    "RECORD_SECONDS = 1\n",
    "#WAVE_OUTPUT_FILENAME = \"output.wav\"\n",
    "\n",
    "class EchoClientDatagramProtocol(DatagramProtocol):\n",
    "    p = pyaudio.PyAudio()\n",
    "\n",
    "    inputStream = p.open(format=FORMAT,\n",
    "                         channels=CHANNELS,\n",
    "                         rate=RATE,\n",
    "                         input=True,\n",
    "                         frames_per_buffer=CHUNK)\n",
    "\n",
    "    outputStream = p.open(format=FORMAT,\n",
    "                          channels=CHANNELS,\n",
    "                          rate=RATE,\n",
    "                          output=True)\n",
    "    framectr = 0\n",
    "    \n",
    "    def startProtocol(self):\n",
    "        self.transport.connect('127.0.0.1', 8000)\n",
    "        self.sendDatagram()\n",
    "    \n",
    "    def sendDatagram(self):\n",
    "        #print self.framectr\n",
    "        if self.framectr <= int(RATE / CHUNK * RECORD_SECONDS):#if len(self.strings):\n",
    "            data = self.inputStream.read(CHUNK)            \n",
    "            #if self.framectr == 1:\n",
    "            #    buff = np.frombuffer(datagram, dtype=np.float64)\n",
    "            #    drawfft(buff)\n",
    "            #print buff\n",
    "            self.transport.write(data)\n",
    "        else:\n",
    "            self.inputStream.stop_stream()\n",
    "            self.inputStream.close()\n",
    "            self.outputStream.stop_stream()\n",
    "            self.outputStream.close()\n",
    "            self.p.terminate()\n",
    "            reactor.stop()\n",
    "        self.framectr += 1\n",
    "\n",
    "    def datagramReceived(self, datagram, host):\n",
    "        #print 'Datagram received: ', repr(datagram)\n",
    "        if self.outputStream:\n",
    "            self.outputStream.write(datagram)\n",
    "        self.sendDatagram()\n",
    "\n",
    "def main():\n",
    "    protocol = EchoClientDatagramProtocol()\n",
    "    t = reactor.listenUDP(0, protocol)\n",
    "    reactor.run()\n",
    "\n",
    "if __name__ == '__main__':\n",
    "    main()"
   ]
  },
  {
   "cell_type": "code",
   "execution_count": null,
   "metadata": {
    "collapsed": false
   },
   "outputs": [],
   "source": [
    "%%bash\n",
    "pushd ../crypto_chaotic\n",
    "/home/abhishek/usr/local/bin/python -m audioClient"
   ]
  },
  {
   "cell_type": "code",
   "execution_count": null,
   "metadata": {
    "collapsed": true
   },
   "outputs": [],
   "source": [
    "import pyaudio"
   ]
  },
  {
   "cell_type": "code",
   "execution_count": null,
   "metadata": {
    "collapsed": true
   },
   "outputs": [],
   "source": []
  }
 ],
 "metadata": {
  "hide_input": true,
  "kernelspec": {
   "display_name": "Python 2",
   "language": "python",
   "name": "python2"
  },
  "language_info": {
   "codemirror_mode": {
    "name": "ipython",
    "version": 2
   },
   "file_extension": ".py",
   "mimetype": "text/x-python",
   "name": "python",
   "nbconvert_exporter": "python",
   "pygments_lexer": "ipython2",
   "version": "2.7.10"
  },
  "latex_envs": {
   "bibliofile": "biblio.bib",
   "cite_by": "apalike",
   "current_citInitial": 1,
   "eqLabelWithNumbers": true,
   "eqNumInitial": 0
  }
 },
 "nbformat": 4,
 "nbformat_minor": 0
}
