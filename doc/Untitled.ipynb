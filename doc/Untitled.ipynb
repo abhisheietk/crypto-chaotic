{
 "cells": [
  {
   "cell_type": "code",
   "execution_count": 3,
   "metadata": {
    "collapsed": false
   },
   "outputs": [
    {
     "name": "stdout",
     "output_type": "stream",
     "text": [
      "Populating the interactive namespace from numpy and matplotlib\n",
      "Using matplotlib backend: TkAgg\n"
     ]
    }
   ],
   "source": [
    "%pylab inline\n",
    "%matplotlib\n",
    "#%%writefile ../crypto_chaotic/audioClient.py\n",
    "#!/usr/bin/env python\n",
    "import pyaudio\n",
    "import wave\n",
    "from twisted.internet.protocol import DatagramProtocol\n",
    "from twisted.internet import reactor\n",
    "import numpy as np\n",
    "from crypto_chaotic.modulation import drawfft\n",
    "from matplotlib import rcParams\n",
    "import matplotlib.pyplot as plt\n",
    "from random import randrange\n",
    "from crypto_chaotic import lorenz_attractor, modulation\n",
    "#from scipy.fftpack import rfft, irfft, fftfreq\n",
    "CHUNK = 44100*5\n",
    "FORMAT = pyaudio.paInt16\n",
    "CHANNELS = 1\n",
    "RATE = 44100\n",
    "#RECORD_SECONDS = 60*60\n",
    "tstep = 0.001 #0.0001\n",
    "ndrop = 1500 #15000\n",
    "N = 4\n",
    "Amplification = 100000 #500000\n",
    "def drawfft(signals, d=1, xlow=0, xhigh=0, ylow=0, yhigh=0):\n",
    "    plt.figure(figsize=(15, 5))\n",
    "    if xlow < xhigh:\n",
    "        plt.xlim([xlow,xhigh])\n",
    "    if ylow < yhigh:\n",
    "        plt.ylim([ylow,yhigh])\n",
    "    for i in signals:\n",
    "        sp = np.abs(np.fft.fft(i))\n",
    "        freq = np.fft.fftfreq(len(sp), d=d)\n",
    "        Nindex = np.argmax(freq < 0)\n",
    "        #freq1 = np.append(freq[Nindex:], freq[:Nindex])\n",
    "        #sp1 = np.append(sp[Nindex:], sp[:Nindex])\n",
    "        freq1 = freq[:Nindex]/d\n",
    "        sp1 = sp[:Nindex]\n",
    "        print freq1\n",
    "        plt.plot(freq1, sp1)\n",
    "    plt.show()"
   ]
  },
  {
   "cell_type": "code",
   "execution_count": null,
   "metadata": {
    "collapsed": true
   },
   "outputs": [],
   "source": [
    "p = pyaudio.PyAudio()\n",
    "inputStream = p.open(format=FORMAT,\n",
    "                     channels=CHANNELS,\n",
    "                     rate=RATE,\n",
    "                     input=True,\n",
    "                     frames_per_buffer=CHUNK)\n",
    "voicestream = inputStream.read(CHUNK)\n",
    "inputStream.close()\n",
    "\n",
    "#########################################\n",
    "###         Voice Data                ###\n",
    "#########################################\n",
    "\n",
    "modsig = np.fromstring(voicestream, dtype=np.int16)\n",
    "\n",
    "#########################################\n",
    "### Frequency Domain                  ###\n",
    "#########################################\n",
    "d=(1.0 * CHUNK)/RATE\n",
    "#W = fftfreq(modsig.size, d=d)\n",
    "f_signal = rfft(modsig)\n",
    "#########################################\n",
    "###\n",
    "Filter\n",
    "###\n",
    "#########################################\n",
    "minm = (1.0*100*d)\n",
    "maxm = (1.0*18000*d)\n",
    "cut_f_signal = f_signal.copy()\n",
    "for j in range(len(cut_f_signal)):\n",
    "if j < minm:\n",
    "cut_f_signal[j] = 0\n",
    "elif j > maxm:\n",
    "cut_f_signal[j] = 0\n",
    "#########################################\n",
    "###\n",
    "Time Domain\n",
    "###\n",
    "#########################################\n",
    "tcut_signal0 = irfft(cut_f_signal)"
   ]
  }
 ],
 "metadata": {
  "kernelspec": {
   "display_name": "Python 2",
   "language": "python",
   "name": "python2"
  },
  "language_info": {
   "codemirror_mode": {
    "name": "ipython",
    "version": 2
   },
   "file_extension": ".py",
   "mimetype": "text/x-python",
   "name": "python",
   "nbconvert_exporter": "python",
   "pygments_lexer": "ipython2",
   "version": "2.7.8"
  }
 },
 "nbformat": 4,
 "nbformat_minor": 0
}
