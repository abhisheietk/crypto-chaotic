{
 "cells": [
  {
   "cell_type": "code",
   "execution_count": 10,
   "metadata": {
    "collapsed": false
   },
   "outputs": [
    {
     "name": "stdout",
     "output_type": "stream",
     "text": [
      "Overwriting echoServer.py\n"
     ]
    }
   ],
   "source": [
    "%%writefile echoServer.py\n",
    "#!/usr/bin/env python\n",
    "\n",
    "# Copyright (c) Twisted Matrix Laboratories.\n",
    "# See LICENSE for details.\n",
    "from twisted.internet.protocol import DatagramProtocol\n",
    "from twisted.internet import reactor\n",
    "\n",
    "# Here's a UDP version of the simplest possible protocol\n",
    "class EchoUDP(DatagramProtocol):\n",
    "    \n",
    "    def datagramReceived(self, datagram, (host, port)):\n",
    "        print len(datagram), type(datagram)\n",
    "        print port\n",
    "        self.transport.write(datagram, (host, 3001))\n",
    "\n",
    "            \n",
    "def main():\n",
    "    reactor.listenUDP(3000, EchoUDP())\n",
    "    reactor.run()\n",
    "\n",
    "if __name__ == '__main__':\n",
    "    main()"
   ]
  },
  {
   "cell_type": "code",
   "execution_count": 2,
   "metadata": {
    "collapsed": false
   },
   "outputs": [
    {
     "ename": "SyntaxError",
     "evalue": "invalid syntax (<ipython-input-2-ff5725d19402>, line 1)",
     "output_type": "error",
     "traceback": [
      "\u001b[1;36m  File \u001b[1;32m\"<ipython-input-2-ff5725d19402>\"\u001b[1;36m, line \u001b[1;32m1\u001b[0m\n\u001b[1;33m    gst-launch-1.0 -e pulsesrc device=\"alsa_input.pci-0000_00_1b.0.analog-stereo\" ! audioconvert ! lamemp3enc target=1 bitrate=24 cbr=true ! filesink location=audio.mp3\u001b[0m\n\u001b[1;37m                             ^\u001b[0m\n\u001b[1;31mSyntaxError\u001b[0m\u001b[1;31m:\u001b[0m invalid syntax\n"
     ]
    }
   ],
   "source": [
    "gst-launch-1.0 -e pulsesrc device=\"alsa_input.pci-0000_00_1b.0.analog-stereo\" ! audioconvert ! \\\n",
    "lamemp3enc target=1 bitrate=24 cbr=true ! filesink location=audio.mp3    "
   ]
  },
  {
   "cell_type": "code",
   "execution_count": null,
   "metadata": {
    "collapsed": true
   },
   "outputs": [],
   "source": []
  }
 ],
 "metadata": {
  "kernelspec": {
   "display_name": "Python 2",
   "language": "python",
   "name": "python2"
  },
  "language_info": {
   "codemirror_mode": {
    "name": "ipython",
    "version": 2
   },
   "file_extension": ".py",
   "mimetype": "text/x-python",
   "name": "python",
   "nbconvert_exporter": "python",
   "pygments_lexer": "ipython2",
   "version": "2.7.10"
  }
 },
 "nbformat": 4,
 "nbformat_minor": 0
}
